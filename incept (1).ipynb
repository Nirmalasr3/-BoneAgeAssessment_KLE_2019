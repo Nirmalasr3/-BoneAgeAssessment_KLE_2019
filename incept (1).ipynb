{
  "nbformat": 4,
  "nbformat_minor": 0,
  "metadata": {
    "accelerator": "GPU",
    "colab": {
      "name": "incept.ipynb",
      "provenance": [],
      "collapsed_sections": [],
      "toc_visible": true
    },
    "kernelspec": {
      "display_name": "Python 3",
      "language": "python",
      "name": "python3"
    },
    "language_info": {
      "codemirror_mode": {
        "name": "ipython",
        "version": 3
      },
      "file_extension": ".py",
      "mimetype": "text/x-python",
      "name": "python",
      "nbconvert_exporter": "python",
      "pygments_lexer": "ipython3",
      "version": "3.6.5"
    }
  },
  "cells": [
    {
      "cell_type": "code",
      "metadata": {
        "colab_type": "code",
        "id": "DnqN6mrVr5Rr",
        "outputId": "878d6482-e5cd-482a-f916-75dc32df25cb",
        "colab": {
          "base_uri": "https://localhost:8080/",
          "height": 144
        }
      },
      "source": [
        "from google.colab import drive \n",
        "drive.mount('/gdrive')\n",
        "%cd /gdrive\n"
      ],
      "execution_count": 1,
      "outputs": [
        {
          "output_type": "stream",
          "text": [
            "Go to this URL in a browser: https://accounts.google.com/o/oauth2/auth?client_id=947318989803-6bn6qk8qdgf4n4g3pfee6491hc0brc4i.apps.googleusercontent.com&redirect_uri=urn%3aietf%3awg%3aoauth%3a2.0%3aoob&response_type=code&scope=email%20https%3a%2f%2fwww.googleapis.com%2fauth%2fdocs.test%20https%3a%2f%2fwww.googleapis.com%2fauth%2fdrive%20https%3a%2f%2fwww.googleapis.com%2fauth%2fdrive.photos.readonly%20https%3a%2f%2fwww.googleapis.com%2fauth%2fpeopleapi.readonly\n",
            "\n",
            "Enter your authorization code:\n",
            "··········\n",
            "Mounted at /gdrive\n",
            "/gdrive\n"
          ],
          "name": "stdout"
        }
      ]
    },
    {
      "cell_type": "markdown",
      "metadata": {
        "id": "5VwKzJc690cS",
        "colab_type": "text"
      },
      "source": [
        "# New Section"
      ]
    },
    {
      "cell_type": "code",
      "metadata": {
        "colab_type": "code",
        "id": "wVwM_o7Wv0Wk",
        "outputId": "5980e03d-736e-4442-ac31-cab6f1aa8632",
        "colab": {
          "base_uri": "https://localhost:8080/",
          "height": 548
        }
      },
      "source": [
        "from google.colab import drive\n",
        "drive.mount('/content/drive')"
      ],
      "execution_count": 0,
      "outputs": [
        {
          "output_type": "error",
          "ename": "KeyboardInterrupt",
          "evalue": "ignored",
          "traceback": [
            "\u001b[0;31m---------------------------------------------------------------------------\u001b[0m",
            "\u001b[0;31mKeyboardInterrupt\u001b[0m                         Traceback (most recent call last)",
            "\u001b[0;32m/usr/local/lib/python3.6/dist-packages/ipykernel/kernelbase.py\u001b[0m in \u001b[0;36m_input_request\u001b[0;34m(self, prompt, ident, parent, password)\u001b[0m\n\u001b[1;32m    729\u001b[0m             \u001b[0;32mtry\u001b[0m\u001b[0;34m:\u001b[0m\u001b[0;34m\u001b[0m\u001b[0;34m\u001b[0m\u001b[0m\n\u001b[0;32m--> 730\u001b[0;31m                 \u001b[0mident\u001b[0m\u001b[0;34m,\u001b[0m \u001b[0mreply\u001b[0m \u001b[0;34m=\u001b[0m \u001b[0mself\u001b[0m\u001b[0;34m.\u001b[0m\u001b[0msession\u001b[0m\u001b[0;34m.\u001b[0m\u001b[0mrecv\u001b[0m\u001b[0;34m(\u001b[0m\u001b[0mself\u001b[0m\u001b[0;34m.\u001b[0m\u001b[0mstdin_socket\u001b[0m\u001b[0;34m,\u001b[0m \u001b[0;36m0\u001b[0m\u001b[0;34m)\u001b[0m\u001b[0;34m\u001b[0m\u001b[0;34m\u001b[0m\u001b[0m\n\u001b[0m\u001b[1;32m    731\u001b[0m             \u001b[0;32mexcept\u001b[0m \u001b[0mException\u001b[0m\u001b[0;34m:\u001b[0m\u001b[0;34m\u001b[0m\u001b[0;34m\u001b[0m\u001b[0m\n",
            "\u001b[0;32m/usr/local/lib/python3.6/dist-packages/jupyter_client/session.py\u001b[0m in \u001b[0;36mrecv\u001b[0;34m(self, socket, mode, content, copy)\u001b[0m\n\u001b[1;32m    802\u001b[0m         \u001b[0;32mtry\u001b[0m\u001b[0;34m:\u001b[0m\u001b[0;34m\u001b[0m\u001b[0;34m\u001b[0m\u001b[0m\n\u001b[0;32m--> 803\u001b[0;31m             \u001b[0mmsg_list\u001b[0m \u001b[0;34m=\u001b[0m \u001b[0msocket\u001b[0m\u001b[0;34m.\u001b[0m\u001b[0mrecv_multipart\u001b[0m\u001b[0;34m(\u001b[0m\u001b[0mmode\u001b[0m\u001b[0;34m,\u001b[0m \u001b[0mcopy\u001b[0m\u001b[0;34m=\u001b[0m\u001b[0mcopy\u001b[0m\u001b[0;34m)\u001b[0m\u001b[0;34m\u001b[0m\u001b[0;34m\u001b[0m\u001b[0m\n\u001b[0m\u001b[1;32m    804\u001b[0m         \u001b[0;32mexcept\u001b[0m \u001b[0mzmq\u001b[0m\u001b[0;34m.\u001b[0m\u001b[0mZMQError\u001b[0m \u001b[0;32mas\u001b[0m \u001b[0me\u001b[0m\u001b[0;34m:\u001b[0m\u001b[0;34m\u001b[0m\u001b[0;34m\u001b[0m\u001b[0m\n",
            "\u001b[0;32m/usr/local/lib/python3.6/dist-packages/zmq/sugar/socket.py\u001b[0m in \u001b[0;36mrecv_multipart\u001b[0;34m(self, flags, copy, track)\u001b[0m\n\u001b[1;32m    465\u001b[0m         \"\"\"\n\u001b[0;32m--> 466\u001b[0;31m         \u001b[0mparts\u001b[0m \u001b[0;34m=\u001b[0m \u001b[0;34m[\u001b[0m\u001b[0mself\u001b[0m\u001b[0;34m.\u001b[0m\u001b[0mrecv\u001b[0m\u001b[0;34m(\u001b[0m\u001b[0mflags\u001b[0m\u001b[0;34m,\u001b[0m \u001b[0mcopy\u001b[0m\u001b[0;34m=\u001b[0m\u001b[0mcopy\u001b[0m\u001b[0;34m,\u001b[0m \u001b[0mtrack\u001b[0m\u001b[0;34m=\u001b[0m\u001b[0mtrack\u001b[0m\u001b[0;34m)\u001b[0m\u001b[0;34m]\u001b[0m\u001b[0;34m\u001b[0m\u001b[0;34m\u001b[0m\u001b[0m\n\u001b[0m\u001b[1;32m    467\u001b[0m         \u001b[0;31m# have first part already, only loop while more to receive\u001b[0m\u001b[0;34m\u001b[0m\u001b[0;34m\u001b[0m\u001b[0;34m\u001b[0m\u001b[0m\n",
            "\u001b[0;32mzmq/backend/cython/socket.pyx\u001b[0m in \u001b[0;36mzmq.backend.cython.socket.Socket.recv\u001b[0;34m()\u001b[0m\n",
            "\u001b[0;32mzmq/backend/cython/socket.pyx\u001b[0m in \u001b[0;36mzmq.backend.cython.socket.Socket.recv\u001b[0;34m()\u001b[0m\n",
            "\u001b[0;32mzmq/backend/cython/socket.pyx\u001b[0m in \u001b[0;36mzmq.backend.cython.socket._recv_copy\u001b[0;34m()\u001b[0m\n",
            "\u001b[0;32m/usr/local/lib/python3.6/dist-packages/zmq/backend/cython/checkrc.pxd\u001b[0m in \u001b[0;36mzmq.backend.cython.checkrc._check_rc\u001b[0;34m()\u001b[0m\n",
            "\u001b[0;31mKeyboardInterrupt\u001b[0m: ",
            "\nDuring handling of the above exception, another exception occurred:\n",
            "\u001b[0;31mKeyboardInterrupt\u001b[0m                         Traceback (most recent call last)",
            "\u001b[0;32m<ipython-input-7-d5df0069828e>\u001b[0m in \u001b[0;36m<module>\u001b[0;34m()\u001b[0m\n\u001b[1;32m      1\u001b[0m \u001b[0;32mfrom\u001b[0m \u001b[0mgoogle\u001b[0m\u001b[0;34m.\u001b[0m\u001b[0mcolab\u001b[0m \u001b[0;32mimport\u001b[0m \u001b[0mdrive\u001b[0m\u001b[0;34m\u001b[0m\u001b[0;34m\u001b[0m\u001b[0m\n\u001b[0;32m----> 2\u001b[0;31m \u001b[0mdrive\u001b[0m\u001b[0;34m.\u001b[0m\u001b[0mmount\u001b[0m\u001b[0;34m(\u001b[0m\u001b[0;34m'/content/drive'\u001b[0m\u001b[0;34m)\u001b[0m\u001b[0;34m\u001b[0m\u001b[0;34m\u001b[0m\u001b[0m\n\u001b[0m",
            "\u001b[0;32m/usr/local/lib/python3.6/dist-packages/google/colab/drive.py\u001b[0m in \u001b[0;36mmount\u001b[0;34m(mountpoint, force_remount, timeout_ms, use_metadata_server)\u001b[0m\n\u001b[1;32m    232\u001b[0m       \u001b[0mauth_prompt\u001b[0m \u001b[0;34m=\u001b[0m \u001b[0md\u001b[0m\u001b[0;34m.\u001b[0m\u001b[0mmatch\u001b[0m\u001b[0;34m.\u001b[0m\u001b[0mgroup\u001b[0m\u001b[0;34m(\u001b[0m\u001b[0;36m1\u001b[0m\u001b[0;34m)\u001b[0m \u001b[0;34m+\u001b[0m \u001b[0;34m'\\nEnter your authorization code:\\n'\u001b[0m\u001b[0;34m\u001b[0m\u001b[0;34m\u001b[0m\u001b[0m\n\u001b[1;32m    233\u001b[0m       \u001b[0;32mwith\u001b[0m \u001b[0mopen\u001b[0m\u001b[0;34m(\u001b[0m\u001b[0mfifo\u001b[0m\u001b[0;34m,\u001b[0m \u001b[0;34m'w'\u001b[0m\u001b[0;34m)\u001b[0m \u001b[0;32mas\u001b[0m \u001b[0mfifo_file\u001b[0m\u001b[0;34m:\u001b[0m\u001b[0;34m\u001b[0m\u001b[0;34m\u001b[0m\u001b[0m\n\u001b[0;32m--> 234\u001b[0;31m         \u001b[0mfifo_file\u001b[0m\u001b[0;34m.\u001b[0m\u001b[0mwrite\u001b[0m\u001b[0;34m(\u001b[0m\u001b[0m_getpass\u001b[0m\u001b[0;34m.\u001b[0m\u001b[0mgetpass\u001b[0m\u001b[0;34m(\u001b[0m\u001b[0mauth_prompt\u001b[0m\u001b[0;34m)\u001b[0m \u001b[0;34m+\u001b[0m \u001b[0;34m'\\n'\u001b[0m\u001b[0;34m)\u001b[0m\u001b[0;34m\u001b[0m\u001b[0;34m\u001b[0m\u001b[0m\n\u001b[0m\u001b[1;32m    235\u001b[0m       \u001b[0mwrote_to_fifo\u001b[0m \u001b[0;34m=\u001b[0m \u001b[0;32mTrue\u001b[0m\u001b[0;34m\u001b[0m\u001b[0;34m\u001b[0m\u001b[0m\n\u001b[1;32m    236\u001b[0m   \u001b[0;32mif\u001b[0m \u001b[0;32mnot\u001b[0m \u001b[0mwrote_to_fifo\u001b[0m\u001b[0;34m:\u001b[0m\u001b[0;34m\u001b[0m\u001b[0;34m\u001b[0m\u001b[0m\n",
            "\u001b[0;32m/usr/local/lib/python3.6/dist-packages/ipykernel/kernelbase.py\u001b[0m in \u001b[0;36mgetpass\u001b[0;34m(self, prompt, stream)\u001b[0m\n\u001b[1;32m    686\u001b[0m             \u001b[0mself\u001b[0m\u001b[0;34m.\u001b[0m\u001b[0m_parent_ident\u001b[0m\u001b[0;34m,\u001b[0m\u001b[0;34m\u001b[0m\u001b[0;34m\u001b[0m\u001b[0m\n\u001b[1;32m    687\u001b[0m             \u001b[0mself\u001b[0m\u001b[0;34m.\u001b[0m\u001b[0m_parent_header\u001b[0m\u001b[0;34m,\u001b[0m\u001b[0;34m\u001b[0m\u001b[0;34m\u001b[0m\u001b[0m\n\u001b[0;32m--> 688\u001b[0;31m             \u001b[0mpassword\u001b[0m\u001b[0;34m=\u001b[0m\u001b[0;32mTrue\u001b[0m\u001b[0;34m,\u001b[0m\u001b[0;34m\u001b[0m\u001b[0;34m\u001b[0m\u001b[0m\n\u001b[0m\u001b[1;32m    689\u001b[0m         )\n\u001b[1;32m    690\u001b[0m \u001b[0;34m\u001b[0m\u001b[0m\n",
            "\u001b[0;32m/usr/local/lib/python3.6/dist-packages/ipykernel/kernelbase.py\u001b[0m in \u001b[0;36m_input_request\u001b[0;34m(self, prompt, ident, parent, password)\u001b[0m\n\u001b[1;32m    733\u001b[0m             \u001b[0;32mexcept\u001b[0m \u001b[0mKeyboardInterrupt\u001b[0m\u001b[0;34m:\u001b[0m\u001b[0;34m\u001b[0m\u001b[0;34m\u001b[0m\u001b[0m\n\u001b[1;32m    734\u001b[0m                 \u001b[0;31m# re-raise KeyboardInterrupt, to truncate traceback\u001b[0m\u001b[0;34m\u001b[0m\u001b[0;34m\u001b[0m\u001b[0;34m\u001b[0m\u001b[0m\n\u001b[0;32m--> 735\u001b[0;31m                 \u001b[0;32mraise\u001b[0m \u001b[0mKeyboardInterrupt\u001b[0m\u001b[0;34m\u001b[0m\u001b[0;34m\u001b[0m\u001b[0m\n\u001b[0m\u001b[1;32m    736\u001b[0m             \u001b[0;32melse\u001b[0m\u001b[0;34m:\u001b[0m\u001b[0;34m\u001b[0m\u001b[0;34m\u001b[0m\u001b[0m\n\u001b[1;32m    737\u001b[0m                 \u001b[0;32mbreak\u001b[0m\u001b[0;34m\u001b[0m\u001b[0;34m\u001b[0m\u001b[0m\n",
            "\u001b[0;31mKeyboardInterrupt\u001b[0m: "
          ]
        }
      ]
    },
    {
      "cell_type": "code",
      "metadata": {
        "colab_type": "code",
        "id": "ksqDW9Q_xkVN",
        "outputId": "8be05c08-32ff-447a-c0f2-accccca84444",
        "colab": {
          "base_uri": "https://localhost:8080/",
          "height": 128
        }
      },
      "source": [
        "import tensorflow.compat.v1 as tf\n",
        "tf.disable_v2_behavior()0"
      ],
      "execution_count": 0,
      "outputs": [
        {
          "output_type": "error",
          "ename": "SyntaxError",
          "evalue": "ignored",
          "traceback": [
            "\u001b[0;36m  File \u001b[0;32m\"<ipython-input-31-2142557642ba>\"\u001b[0;36m, line \u001b[0;32m2\u001b[0m\n\u001b[0;31m    tf.disable_v2_behavior()0\u001b[0m\n\u001b[0m                            ^\u001b[0m\n\u001b[0;31mSyntaxError\u001b[0m\u001b[0;31m:\u001b[0m invalid syntax\n"
          ]
        }
      ]
    },
    {
      "cell_type": "code",
      "metadata": {
        "colab_type": "code",
        "id": "nUGP2ii5r28i",
        "colab": {}
      },
      "source": [
        "from keras.models import Model\n",
        "from keras_preprocessing.image import ImageDataGenerator\n",
        "from keras.layers import Dense, Dropout, BatchNormalization\n",
        "from keras.layers import Input, Conv2D, multiply, LocallyConnected2D, Lambda, Flatten, concatenate\n",
        "from keras.layers import GlobalAveragePooling2D, AveragePooling2D, MaxPooling2D\n",
        "from keras.callbacks import ModelCheckpoint, EarlyStopping, ReduceLROnPlateau\n",
        "from keras import optimizers\n",
        "from keras.optimizers import SGD, Adam\n",
        "from keras.metrics import mean_absolute_error\n",
        "from keras.applications import VGG16,InceptionV3\n",
        "import pandas as pd\n",
        "import numpy as np\n",
        "from sklearn.model_selection import train_test_split\n",
        "import os\n",
        "import matplotlib.pyplot as plt\n",
        "import seaborn as sns"
      ],
      "execution_count": 0,
      "outputs": []
    },
    {
      "cell_type": "code",
      "metadata": {
        "colab_type": "code",
        "id": "q_6WZJflrzq-",
        "colab": {}
      },
      "source": [
        "\n",
        "import numpy as np # linear algebra\n",
        "import pandas as pd # data processing, CSV file I/O (e.g. pd.read_csv)\n",
        "import matplotlib.pyplot as plt # showing and rendering figures\n",
        "# io related\n",
        "#from skimage.io import imread\n",
        "import os\n",
        "from glob import glob\n",
        "import seaborn as sns\n",
        "from sklearn.model_selection import train_test_split\n",
        "# not needed in Kaggle, but required in Jupyter\n",
        "%matplotlib inline "
      ],
      "execution_count": 0,
      "outputs": []
    },
    {
      "cell_type": "code",
      "metadata": {
        "colab_type": "code",
        "id": "dK6XKDLGrzrB",
        "colab": {}
      },
      "source": [
        "# hyperparameters\n",
        "EPOCHS = 10\n",
        "LEARNING_RATE = 0.006\n",
        "BATCH_SIZE_TRAIN = 32\n",
        "BATCH_SIZE_VAL = 256\n",
        "\n",
        "#image parameters \n",
        "PIXELS = 299#default for Xception\n",
        "CHANNELS = 3\n",
        "IMG_SIZE = (PIXELS, PIXELS)\n",
        "IMG_DIMS = (PIXELS, PIXELS, CHANNELS)\n",
        "VALIDATION_FRACTION = 0.25\n",
        "SEED = 7834"
      ],
      "execution_count": 0,
      "outputs": []
    },
    {
      "cell_type": "code",
      "metadata": {
        "colab_type": "code",
        "id": "2AP2xhnerzrE",
        "colab": {}
      },
      "source": [
        "import pandas as pd\n",
        "csvfile=r'/gdrive/My Drive/boneage-training-dataset.csv'\n",
        "df = pd.read_csv(csvfile)"
      ],
      "execution_count": 0,
      "outputs": []
    },
    {
      "cell_type": "code",
      "metadata": {
        "id": "CHqIEhIeo23I",
        "colab_type": "code",
        "outputId": "aedfb5c6-dd26-4fe4-8c8d-800de7af25f5",
        "colab": {
          "base_uri": "https://localhost:8080/",
          "height": 266
        }
      },
      "source": [
        "#df = pd.read_csv('C:\\\\Users\\\\darugar\\\\Desktop\\\\ml\\\\bone\\\\boneage-training-dataset.csv')\n",
        "df.count"
      ],
      "execution_count": 6,
      "outputs": [
        {
          "output_type": "execute_result",
          "data": {
            "text/plain": [
              "<bound method DataFrame.count of           id  boneage   male\n",
              "0       1377      180  False\n",
              "1       1378       12  False\n",
              "2       1379       94  False\n",
              "3       1380      120   True\n",
              "4       1381       82  False\n",
              "...      ...      ...    ...\n",
              "12606  15605       50  False\n",
              "12607  15606      113  False\n",
              "12608  15608       55  False\n",
              "12609  15609      150   True\n",
              "12610  15610      132   True\n",
              "\n",
              "[12611 rows x 3 columns]>"
            ]
          },
          "metadata": {
            "tags": []
          },
          "execution_count": 6
        }
      ]
    },
    {
      "cell_type": "code",
      "metadata": {
        "colab_type": "code",
        "id": "AvhY0NMHrzrH",
        "outputId": "cdda24bc-e413-432b-a7b5-02858438d819",
        "colab": {
          "base_uri": "https://localhost:8080/",
          "height": 487
        }
      },
      "source": [
        "df.head(15)"
      ],
      "execution_count": 7,
      "outputs": [
        {
          "output_type": "execute_result",
          "data": {
            "text/html": [
              "<div>\n",
              "<style scoped>\n",
              "    .dataframe tbody tr th:only-of-type {\n",
              "        vertical-align: middle;\n",
              "    }\n",
              "\n",
              "    .dataframe tbody tr th {\n",
              "        vertical-align: top;\n",
              "    }\n",
              "\n",
              "    .dataframe thead th {\n",
              "        text-align: right;\n",
              "    }\n",
              "</style>\n",
              "<table border=\"1\" class=\"dataframe\">\n",
              "  <thead>\n",
              "    <tr style=\"text-align: right;\">\n",
              "      <th></th>\n",
              "      <th>id</th>\n",
              "      <th>boneage</th>\n",
              "      <th>male</th>\n",
              "    </tr>\n",
              "  </thead>\n",
              "  <tbody>\n",
              "    <tr>\n",
              "      <th>0</th>\n",
              "      <td>1377</td>\n",
              "      <td>180</td>\n",
              "      <td>False</td>\n",
              "    </tr>\n",
              "    <tr>\n",
              "      <th>1</th>\n",
              "      <td>1378</td>\n",
              "      <td>12</td>\n",
              "      <td>False</td>\n",
              "    </tr>\n",
              "    <tr>\n",
              "      <th>2</th>\n",
              "      <td>1379</td>\n",
              "      <td>94</td>\n",
              "      <td>False</td>\n",
              "    </tr>\n",
              "    <tr>\n",
              "      <th>3</th>\n",
              "      <td>1380</td>\n",
              "      <td>120</td>\n",
              "      <td>True</td>\n",
              "    </tr>\n",
              "    <tr>\n",
              "      <th>4</th>\n",
              "      <td>1381</td>\n",
              "      <td>82</td>\n",
              "      <td>False</td>\n",
              "    </tr>\n",
              "    <tr>\n",
              "      <th>5</th>\n",
              "      <td>1382</td>\n",
              "      <td>138</td>\n",
              "      <td>True</td>\n",
              "    </tr>\n",
              "    <tr>\n",
              "      <th>6</th>\n",
              "      <td>1383</td>\n",
              "      <td>150</td>\n",
              "      <td>True</td>\n",
              "    </tr>\n",
              "    <tr>\n",
              "      <th>7</th>\n",
              "      <td>1384</td>\n",
              "      <td>156</td>\n",
              "      <td>True</td>\n",
              "    </tr>\n",
              "    <tr>\n",
              "      <th>8</th>\n",
              "      <td>1385</td>\n",
              "      <td>36</td>\n",
              "      <td>True</td>\n",
              "    </tr>\n",
              "    <tr>\n",
              "      <th>9</th>\n",
              "      <td>1387</td>\n",
              "      <td>138</td>\n",
              "      <td>True</td>\n",
              "    </tr>\n",
              "    <tr>\n",
              "      <th>10</th>\n",
              "      <td>1388</td>\n",
              "      <td>126</td>\n",
              "      <td>False</td>\n",
              "    </tr>\n",
              "    <tr>\n",
              "      <th>11</th>\n",
              "      <td>1389</td>\n",
              "      <td>138</td>\n",
              "      <td>True</td>\n",
              "    </tr>\n",
              "    <tr>\n",
              "      <th>12</th>\n",
              "      <td>1390</td>\n",
              "      <td>156</td>\n",
              "      <td>True</td>\n",
              "    </tr>\n",
              "    <tr>\n",
              "      <th>13</th>\n",
              "      <td>1391</td>\n",
              "      <td>180</td>\n",
              "      <td>True</td>\n",
              "    </tr>\n",
              "    <tr>\n",
              "      <th>14</th>\n",
              "      <td>1393</td>\n",
              "      <td>132</td>\n",
              "      <td>False</td>\n",
              "    </tr>\n",
              "  </tbody>\n",
              "</table>\n",
              "</div>"
            ],
            "text/plain": [
              "      id  boneage   male\n",
              "0   1377      180  False\n",
              "1   1378       12  False\n",
              "2   1379       94  False\n",
              "3   1380      120   True\n",
              "4   1381       82  False\n",
              "5   1382      138   True\n",
              "6   1383      150   True\n",
              "7   1384      156   True\n",
              "8   1385       36   True\n",
              "9   1387      138   True\n",
              "10  1388      126  False\n",
              "11  1389      138   True\n",
              "12  1390      156   True\n",
              "13  1391      180   True\n",
              "14  1393      132  False"
            ]
          },
          "metadata": {
            "tags": []
          },
          "execution_count": 7
        }
      ]
    },
    {
      "cell_type": "code",
      "metadata": {
        "colab_type": "code",
        "id": "7AeAMPq-rzrL",
        "colab": {}
      },
      "source": [
        "files = ['/gdrive/My Drive/boneage-training-dataset/' + str(i) + '.png' for i in df['id']]\n",
        "df['file'] = files\n",
        "df['exists'] = df['file'].map(os.path.exists)"
      ],
      "execution_count": 0,
      "outputs": []
    },
    {
      "cell_type": "code",
      "metadata": {
        "id": "Wta1ZLDzo23W",
        "colab_type": "code",
        "colab": {}
      },
      "source": [
        "files = ['F:/boneage-training-dataset/boneage-training-dataset/' + str(i) + '.png' for i in df['id']]\n",
        "df['file'] = files\n",
        "df['exists'] = df['file'].map(os.path.exists)"
      ],
      "execution_count": 0,
      "outputs": []
    },
    {
      "cell_type": "code",
      "metadata": {
        "colab_type": "code",
        "id": "4Qkdy70mrzrO",
        "outputId": "b899c6eb-e1cd-4b53-9456-f77651f683c7",
        "colab": {
          "base_uri": "https://localhost:8080/",
          "height": 402
        }
      },
      "source": [
        "df"
      ],
      "execution_count": 0,
      "outputs": [
        {
          "output_type": "execute_result",
          "data": {
            "text/html": [
              "<div>\n",
              "<style scoped>\n",
              "    .dataframe tbody tr th:only-of-type {\n",
              "        vertical-align: middle;\n",
              "    }\n",
              "\n",
              "    .dataframe tbody tr th {\n",
              "        vertical-align: top;\n",
              "    }\n",
              "\n",
              "    .dataframe thead th {\n",
              "        text-align: right;\n",
              "    }\n",
              "</style>\n",
              "<table border=\"1\" class=\"dataframe\">\n",
              "  <thead>\n",
              "    <tr style=\"text-align: right;\">\n",
              "      <th></th>\n",
              "      <th>id</th>\n",
              "      <th>boneage</th>\n",
              "      <th>male</th>\n",
              "      <th>file</th>\n",
              "      <th>exists</th>\n",
              "    </tr>\n",
              "  </thead>\n",
              "  <tbody>\n",
              "    <tr>\n",
              "      <th>0</th>\n",
              "      <td>1377</td>\n",
              "      <td>180</td>\n",
              "      <td>False</td>\n",
              "      <td>/gdrive/My Drive/boneage-training-dataset/1377...</td>\n",
              "      <td>True</td>\n",
              "    </tr>\n",
              "    <tr>\n",
              "      <th>1</th>\n",
              "      <td>1378</td>\n",
              "      <td>12</td>\n",
              "      <td>False</td>\n",
              "      <td>/gdrive/My Drive/boneage-training-dataset/1378...</td>\n",
              "      <td>True</td>\n",
              "    </tr>\n",
              "    <tr>\n",
              "      <th>2</th>\n",
              "      <td>1379</td>\n",
              "      <td>94</td>\n",
              "      <td>False</td>\n",
              "      <td>/gdrive/My Drive/boneage-training-dataset/1379...</td>\n",
              "      <td>True</td>\n",
              "    </tr>\n",
              "    <tr>\n",
              "      <th>3</th>\n",
              "      <td>1380</td>\n",
              "      <td>120</td>\n",
              "      <td>True</td>\n",
              "      <td>/gdrive/My Drive/boneage-training-dataset/1380...</td>\n",
              "      <td>True</td>\n",
              "    </tr>\n",
              "    <tr>\n",
              "      <th>4</th>\n",
              "      <td>1381</td>\n",
              "      <td>82</td>\n",
              "      <td>False</td>\n",
              "      <td>/gdrive/My Drive/boneage-training-dataset/1381...</td>\n",
              "      <td>True</td>\n",
              "    </tr>\n",
              "    <tr>\n",
              "      <th>...</th>\n",
              "      <td>...</td>\n",
              "      <td>...</td>\n",
              "      <td>...</td>\n",
              "      <td>...</td>\n",
              "      <td>...</td>\n",
              "    </tr>\n",
              "    <tr>\n",
              "      <th>12606</th>\n",
              "      <td>15605</td>\n",
              "      <td>50</td>\n",
              "      <td>False</td>\n",
              "      <td>/gdrive/My Drive/boneage-training-dataset/1560...</td>\n",
              "      <td>True</td>\n",
              "    </tr>\n",
              "    <tr>\n",
              "      <th>12607</th>\n",
              "      <td>15606</td>\n",
              "      <td>113</td>\n",
              "      <td>False</td>\n",
              "      <td>/gdrive/My Drive/boneage-training-dataset/1560...</td>\n",
              "      <td>True</td>\n",
              "    </tr>\n",
              "    <tr>\n",
              "      <th>12608</th>\n",
              "      <td>15608</td>\n",
              "      <td>55</td>\n",
              "      <td>False</td>\n",
              "      <td>/gdrive/My Drive/boneage-training-dataset/1560...</td>\n",
              "      <td>True</td>\n",
              "    </tr>\n",
              "    <tr>\n",
              "      <th>12609</th>\n",
              "      <td>15609</td>\n",
              "      <td>150</td>\n",
              "      <td>True</td>\n",
              "      <td>/gdrive/My Drive/boneage-training-dataset/1560...</td>\n",
              "      <td>True</td>\n",
              "    </tr>\n",
              "    <tr>\n",
              "      <th>12610</th>\n",
              "      <td>15610</td>\n",
              "      <td>132</td>\n",
              "      <td>True</td>\n",
              "      <td>/gdrive/My Drive/boneage-training-dataset/1561...</td>\n",
              "      <td>True</td>\n",
              "    </tr>\n",
              "  </tbody>\n",
              "</table>\n",
              "<p>12611 rows × 5 columns</p>\n",
              "</div>"
            ],
            "text/plain": [
              "          id  ...  exists\n",
              "0       1377  ...    True\n",
              "1       1378  ...    True\n",
              "2       1379  ...    True\n",
              "3       1380  ...    True\n",
              "4       1381  ...    True\n",
              "...      ...  ...     ...\n",
              "12606  15605  ...    True\n",
              "12607  15606  ...    True\n",
              "12608  15608  ...    True\n",
              "12609  15609  ...    True\n",
              "12610  15610  ...    True\n",
              "\n",
              "[12611 rows x 5 columns]"
            ]
          },
          "metadata": {
            "tags": []
          },
          "execution_count": 8
        }
      ]
    },
    {
      "cell_type": "code",
      "metadata": {
        "colab_type": "code",
        "id": "w7Y6IgJUrzrR",
        "outputId": "6509ca02-2e87-4757-9efe-a679c98440a5",
        "colab": {
          "base_uri": "https://localhost:8080/",
          "height": 295
        }
      },
      "source": [
        "fig, ax = plt.subplots()\n",
        "ax = sns.distplot(df['boneage'], bins=10)\n",
        "ax.set(xlabel='Boneage (months)', ylabel='Density',\n",
        "    title='Boneage distribution');"
      ],
      "execution_count": 33,
      "outputs": [
        {
          "output_type": "display_data",
          "data": {
            "image/png": "[encoded data removed]",
            "text/plain": [
              "<Figure size 432x288 with 1 Axes>"
            ]
          },
          "metadata": {
            "tags": []
          }
        }
      ]
    },
    {
      "cell_type": "code",
      "metadata": {
        "colab_type": "code",
        "id": "QZOrjP2rrzrU",
        "outputId": "be16aa6a-6d7c-4fae-865e-ce30951773d1",
        "colab": {
          "base_uri": "https://localhost:8080/",
          "height": 35
        }
      },
      "source": [
        "boneage_mean = df['boneage'].mean()#mean age\n",
        "boneage_div = 2*df['boneage'].std()\n",
        "print(boneage_mean,\"  \",boneage_div)\n",
        "df['boneage_zscore'] = df['boneage'].map(lambda x:\n",
        "    (x - boneage_mean) / boneage_div)\n",
        "df.dropna(inplace=True)\n",
        "\n",
        "df['gender'] = df['male'].map(lambda x: 1 if x else 0)\n",
        "\n",
        "df['boneage_category'] = pd.cut(df['boneage'], 10)"
      ],
      "execution_count": 34,
      "outputs": [
        {
          "output_type": "stream",
          "text": [
            "127.3207517246848    82.36404279879235\n"
          ],
          "name": "stdout"
        }
      ]
    },
    {
      "cell_type": "code",
      "metadata": {
        "colab_type": "code",
        "id": "wf21LqQvrzrX",
        "outputId": "250c99e1-d335-4e4e-b8ee-d5b186554e5d",
        "colab": {
          "base_uri": "https://localhost:8080/",
          "height": 35
        }
      },
      "source": [
        "df['gender']\n",
        "df['boneage_category']\n",
        "df.head()\n",
        "df.shape[0]"
      ],
      "execution_count": 35,
      "outputs": [
        {
          "output_type": "execute_result",
          "data": {
            "text/plain": [
              "12611"
            ]
          },
          "metadata": {
            "tags": []
          },
          "execution_count": 35
        }
      ]
    },
    {
      "cell_type": "code",
      "metadata": {
        "colab_type": "code",
        "id": "x33BitLfrzrZ",
        "colab": {}
      },
      "source": [
        "raw_train_df, raw_valid_df = train_test_split(df, test_size=VALIDATION_FRACTION,\n",
        "  random_state=2018)"
      ],
      "execution_count": 0,
      "outputs": []
    },
    {
      "cell_type": "code",
      "metadata": {
        "colab_type": "code",
        "id": "xYDbQOwJrzrc",
        "outputId": "0eaca558-e88e-4937-eeb3-7d3936d3f67b",
        "colab": {
          "base_uri": "https://localhost:8080/",
          "height": 35
        }
      },
      "source": [
        "\n",
        "\n",
        "raw_train_df.shape[0]\n",
        "raw_valid_df.shape[0]"
      ],
      "execution_count": 37,
      "outputs": [
        {
          "output_type": "execute_result",
          "data": {
            "text/plain": [
              "3153"
            ]
          },
          "metadata": {
            "tags": []
          },
          "execution_count": 37
        }
      ]
    },
    {
      "cell_type": "code",
      "metadata": {
        "colab_type": "code",
        "id": "YZuOn-XUrzrf",
        "outputId": "5875bd7c-a38a-4a2e-e23c-677a2da3a242",
        "colab": {
          "base_uri": "https://localhost:8080/",
          "height": 194
        }
      },
      "source": [
        " raw_valid_df.head()"
      ],
      "execution_count": 38,
      "outputs": [
        {
          "output_type": "execute_result",
          "data": {
            "text/html": [
              "<div>\n",
              "<style scoped>\n",
              "    .dataframe tbody tr th:only-of-type {\n",
              "        vertical-align: middle;\n",
              "    }\n",
              "\n",
              "    .dataframe tbody tr th {\n",
              "        vertical-align: top;\n",
              "    }\n",
              "\n",
              "    .dataframe thead th {\n",
              "        text-align: right;\n",
              "    }\n",
              "</style>\n",
              "<table border=\"1\" class=\"dataframe\">\n",
              "  <thead>\n",
              "    <tr style=\"text-align: right;\">\n",
              "      <th></th>\n",
              "      <th>id</th>\n",
              "      <th>boneage</th>\n",
              "      <th>male</th>\n",
              "      <th>file</th>\n",
              "      <th>exists</th>\n",
              "      <th>boneage_zscore</th>\n",
              "      <th>gender</th>\n",
              "      <th>boneage_category</th>\n",
              "    </tr>\n",
              "  </thead>\n",
              "  <tbody>\n",
              "    <tr>\n",
              "      <th>3482</th>\n",
              "      <td>5435</td>\n",
              "      <td>156</td>\n",
              "      <td>False</td>\n",
              "      <td>/gdrive/My Drive/boneage-training-dataset/5435...</td>\n",
              "      <td>True</td>\n",
              "      <td>0.348201</td>\n",
              "      <td>0</td>\n",
              "      <td>(137.2, 159.9]</td>\n",
              "    </tr>\n",
              "    <tr>\n",
              "      <th>3092</th>\n",
              "      <td>5004</td>\n",
              "      <td>100</td>\n",
              "      <td>False</td>\n",
              "      <td>/gdrive/My Drive/boneage-training-dataset/5004...</td>\n",
              "      <td>True</td>\n",
              "      <td>-0.331707</td>\n",
              "      <td>0</td>\n",
              "      <td>(91.8, 114.5]</td>\n",
              "    </tr>\n",
              "    <tr>\n",
              "      <th>10199</th>\n",
              "      <td>12917</td>\n",
              "      <td>94</td>\n",
              "      <td>False</td>\n",
              "      <td>/gdrive/My Drive/boneage-training-dataset/1291...</td>\n",
              "      <td>True</td>\n",
              "      <td>-0.404555</td>\n",
              "      <td>0</td>\n",
              "      <td>(91.8, 114.5]</td>\n",
              "    </tr>\n",
              "    <tr>\n",
              "      <th>4467</th>\n",
              "      <td>6521</td>\n",
              "      <td>69</td>\n",
              "      <td>False</td>\n",
              "      <td>/gdrive/My Drive/boneage-training-dataset/6521...</td>\n",
              "      <td>True</td>\n",
              "      <td>-0.708085</td>\n",
              "      <td>0</td>\n",
              "      <td>(46.4, 69.1]</td>\n",
              "    </tr>\n",
              "    <tr>\n",
              "      <th>6645</th>\n",
              "      <td>8947</td>\n",
              "      <td>120</td>\n",
              "      <td>False</td>\n",
              "      <td>/gdrive/My Drive/boneage-training-dataset/8947...</td>\n",
              "      <td>True</td>\n",
              "      <td>-0.088883</td>\n",
              "      <td>0</td>\n",
              "      <td>(114.5, 137.2]</td>\n",
              "    </tr>\n",
              "  </tbody>\n",
              "</table>\n",
              "</div>"
            ],
            "text/plain": [
              "          id  boneage   male  ... boneage_zscore  gender  boneage_category\n",
              "3482    5435      156  False  ...       0.348201       0    (137.2, 159.9]\n",
              "3092    5004      100  False  ...      -0.331707       0     (91.8, 114.5]\n",
              "10199  12917       94  False  ...      -0.404555       0     (91.8, 114.5]\n",
              "4467    6521       69  False  ...      -0.708085       0      (46.4, 69.1]\n",
              "6645    8947      120  False  ...      -0.088883       0    (114.5, 137.2]\n",
              "\n",
              "[5 rows x 8 columns]"
            ]
          },
          "metadata": {
            "tags": []
          },
          "execution_count": 38
        }
      ]
    },
    {
      "cell_type": "code",
      "metadata": {
        "colab_type": "code",
        "id": "0kTysyVmzUME",
        "outputId": "d1b08b98-0a95-419e-822a-738bb8286ae2",
        "colab": {
          "base_uri": "https://localhost:8080/",
          "height": 47
        }
      },
      "source": [
        "raw_valid_df.loc[raw_valid_df['exists']==False,:]"
      ],
      "execution_count": 39,
      "outputs": [
        {
          "output_type": "execute_result",
          "data": {
            "text/html": [
              "<div>\n",
              "<style scoped>\n",
              "    .dataframe tbody tr th:only-of-type {\n",
              "        vertical-align: middle;\n",
              "    }\n",
              "\n",
              "    .dataframe tbody tr th {\n",
              "        vertical-align: top;\n",
              "    }\n",
              "\n",
              "    .dataframe thead th {\n",
              "        text-align: right;\n",
              "    }\n",
              "</style>\n",
              "<table border=\"1\" class=\"dataframe\">\n",
              "  <thead>\n",
              "    <tr style=\"text-align: right;\">\n",
              "      <th></th>\n",
              "      <th>id</th>\n",
              "      <th>boneage</th>\n",
              "      <th>male</th>\n",
              "      <th>file</th>\n",
              "      <th>exists</th>\n",
              "      <th>boneage_zscore</th>\n",
              "      <th>gender</th>\n",
              "      <th>boneage_category</th>\n",
              "    </tr>\n",
              "  </thead>\n",
              "  <tbody>\n",
              "  </tbody>\n",
              "</table>\n",
              "</div>"
            ],
            "text/plain": [
              "Empty DataFrame\n",
              "Columns: [id, boneage, male, file, exists, boneage_zscore, gender, boneage_category]\n",
              "Index: []"
            ]
          },
          "metadata": {
            "tags": []
          },
          "execution_count": 39
        }
      ]
    },
    {
      "cell_type": "code",
      "metadata": {
        "colab_type": "code",
        "id": "Ya58EGV0rzrh",
        "colab": {}
      },
      "source": [
        "train_df = raw_train_df.groupby(['boneage_category', 'male']).apply(\n",
        "  lambda x: x.sample(500, replace=True)).reset_index(drop=True)\n",
        "valid_df, test_df = train_test_split(raw_valid_df,\n",
        "\n",
        "  test_size=VALIDATION_FRACTION, random_state=2019)"
      ],
      "execution_count": 0,
      "outputs": []
    },
    {
      "cell_type": "code",
      "metadata": {
        "colab_type": "code",
        "id": "ACnhFMcerzrk",
        "outputId": "800e2784-5871-498c-c4a7-c462193b879d",
        "colab": {
          "base_uri": "https://localhost:8080/",
          "height": 399
        }
      },
      "source": [
        "valid_df"
      ],
      "execution_count": 0,
      "outputs": [
        {
          "output_type": "execute_result",
          "data": {
            "text/html": [
              "<div>\n",
              "<style scoped>\n",
              "    .dataframe tbody tr th:only-of-type {\n",
              "        vertical-align: middle;\n",
              "    }\n",
              "\n",
              "    .dataframe tbody tr th {\n",
              "        vertical-align: top;\n",
              "    }\n",
              "\n",
              "    .dataframe thead th {\n",
              "        text-align: right;\n",
              "    }\n",
              "</style>\n",
              "<table border=\"1\" class=\"dataframe\">\n",
              "  <thead>\n",
              "    <tr style=\"text-align: right;\">\n",
              "      <th></th>\n",
              "      <th>id</th>\n",
              "      <th>boneage</th>\n",
              "      <th>male</th>\n",
              "      <th>file</th>\n",
              "      <th>exists</th>\n",
              "      <th>boneage_zscore</th>\n",
              "      <th>gender</th>\n",
              "      <th>boneage_category</th>\n",
              "    </tr>\n",
              "  </thead>\n",
              "  <tbody>\n",
              "    <tr>\n",
              "      <th>1174</th>\n",
              "      <td>2680</td>\n",
              "      <td>132</td>\n",
              "      <td>False</td>\n",
              "      <td>/gdrive/My Drive/boneage-training-dataset/2680...</td>\n",
              "      <td>True</td>\n",
              "      <td>0.057044</td>\n",
              "      <td>0</td>\n",
              "      <td>(114.5, 137.2]</td>\n",
              "    </tr>\n",
              "    <tr>\n",
              "      <th>2640</th>\n",
              "      <td>4314</td>\n",
              "      <td>120</td>\n",
              "      <td>False</td>\n",
              "      <td>/gdrive/My Drive/boneage-training-dataset/4314...</td>\n",
              "      <td>True</td>\n",
              "      <td>-0.088666</td>\n",
              "      <td>0</td>\n",
              "      <td>(114.5, 137.2]</td>\n",
              "    </tr>\n",
              "    <tr>\n",
              "      <th>4144</th>\n",
              "      <td>6162</td>\n",
              "      <td>162</td>\n",
              "      <td>True</td>\n",
              "      <td>/gdrive/My Drive/boneage-training-dataset/6162...</td>\n",
              "      <td>True</td>\n",
              "      <td>0.421320</td>\n",
              "      <td>1</td>\n",
              "      <td>(159.9, 182.6]</td>\n",
              "    </tr>\n",
              "    <tr>\n",
              "      <th>2043</th>\n",
              "      <td>3658</td>\n",
              "      <td>138</td>\n",
              "      <td>False</td>\n",
              "      <td>/gdrive/My Drive/boneage-training-dataset/3658...</td>\n",
              "      <td>True</td>\n",
              "      <td>0.129899</td>\n",
              "      <td>0</td>\n",
              "      <td>(137.2, 159.9]</td>\n",
              "    </tr>\n",
              "    <tr>\n",
              "      <th>10765</th>\n",
              "      <td>13557</td>\n",
              "      <td>82</td>\n",
              "      <td>False</td>\n",
              "      <td>/gdrive/My Drive/boneage-training-dataset/1355...</td>\n",
              "      <td>True</td>\n",
              "      <td>-0.550081</td>\n",
              "      <td>0</td>\n",
              "      <td>(69.1, 91.8]</td>\n",
              "    </tr>\n",
              "    <tr>\n",
              "      <th>...</th>\n",
              "      <td>...</td>\n",
              "      <td>...</td>\n",
              "      <td>...</td>\n",
              "      <td>...</td>\n",
              "      <td>...</td>\n",
              "      <td>...</td>\n",
              "      <td>...</td>\n",
              "      <td>...</td>\n",
              "    </tr>\n",
              "    <tr>\n",
              "      <th>1933</th>\n",
              "      <td>3534</td>\n",
              "      <td>180</td>\n",
              "      <td>False</td>\n",
              "      <td>/gdrive/My Drive/boneage-training-dataset/3534...</td>\n",
              "      <td>True</td>\n",
              "      <td>0.639885</td>\n",
              "      <td>0</td>\n",
              "      <td>(159.9, 182.6]</td>\n",
              "    </tr>\n",
              "    <tr>\n",
              "      <th>8542</th>\n",
              "      <td>11061</td>\n",
              "      <td>120</td>\n",
              "      <td>False</td>\n",
              "      <td>/gdrive/My Drive/boneage-training-dataset/1106...</td>\n",
              "      <td>True</td>\n",
              "      <td>-0.088666</td>\n",
              "      <td>0</td>\n",
              "      <td>(114.5, 137.2]</td>\n",
              "    </tr>\n",
              "    <tr>\n",
              "      <th>9840</th>\n",
              "      <td>12527</td>\n",
              "      <td>120</td>\n",
              "      <td>False</td>\n",
              "      <td>/gdrive/My Drive/boneage-training-dataset/1252...</td>\n",
              "      <td>True</td>\n",
              "      <td>-0.088666</td>\n",
              "      <td>0</td>\n",
              "      <td>(114.5, 137.2]</td>\n",
              "    </tr>\n",
              "    <tr>\n",
              "      <th>5125</th>\n",
              "      <td>7259</td>\n",
              "      <td>84</td>\n",
              "      <td>True</td>\n",
              "      <td>/gdrive/My Drive/boneage-training-dataset/7259...</td>\n",
              "      <td>True</td>\n",
              "      <td>-0.525796</td>\n",
              "      <td>1</td>\n",
              "      <td>(69.1, 91.8]</td>\n",
              "    </tr>\n",
              "    <tr>\n",
              "      <th>4749</th>\n",
              "      <td>6841</td>\n",
              "      <td>120</td>\n",
              "      <td>True</td>\n",
              "      <td>/gdrive/My Drive/boneage-training-dataset/6841...</td>\n",
              "      <td>True</td>\n",
              "      <td>-0.088666</td>\n",
              "      <td>1</td>\n",
              "      <td>(114.5, 137.2]</td>\n",
              "    </tr>\n",
              "  </tbody>\n",
              "</table>\n",
              "<p>2364 rows × 8 columns</p>\n",
              "</div>"
            ],
            "text/plain": [
              "          id  boneage   male  ... boneage_zscore  gender  boneage_category\n",
              "1174    2680      132  False  ...       0.057044       0    (114.5, 137.2]\n",
              "2640    4314      120  False  ...      -0.088666       0    (114.5, 137.2]\n",
              "4144    6162      162   True  ...       0.421320       1    (159.9, 182.6]\n",
              "2043    3658      138  False  ...       0.129899       0    (137.2, 159.9]\n",
              "10765  13557       82  False  ...      -0.550081       0      (69.1, 91.8]\n",
              "...      ...      ...    ...  ...            ...     ...               ...\n",
              "1933    3534      180  False  ...       0.639885       0    (159.9, 182.6]\n",
              "8542   11061      120  False  ...      -0.088666       0    (114.5, 137.2]\n",
              "9840   12527      120  False  ...      -0.088666       0    (114.5, 137.2]\n",
              "5125    7259       84   True  ...      -0.525796       1      (69.1, 91.8]\n",
              "4749    6841      120   True  ...      -0.088666       1    (114.5, 137.2]\n",
              "\n",
              "[2364 rows x 8 columns]"
            ]
          },
          "metadata": {
            "tags": []
          },
          "execution_count": 14
        }
      ]
    },
    {
      "cell_type": "code",
      "metadata": {
        "colab_type": "code",
        "id": "zND8t7kIrzrn",
        "outputId": "6d26409e-b0a1-46d9-ed89-9081c1e3115c",
        "colab": {
          "base_uri": "https://localhost:8080/",
          "height": 35
        }
      },
      "source": [
        "train_df.shape[0]"
      ],
      "execution_count": 0,
      "outputs": [
        {
          "output_type": "execute_result",
          "data": {
            "text/plain": [
              "10000"
            ]
          },
          "metadata": {
            "tags": []
          },
          "execution_count": 34
        }
      ]
    },
    {
      "cell_type": "code",
      "metadata": {
        "colab_type": "code",
        "id": "JTJnUJgcrzrq",
        "outputId": "dfa341aa-20ea-4a58-ccd1-e8f6c98bf4aa",
        "colab": {
          "base_uri": "https://localhost:8080/",
          "height": 399
        }
      },
      "source": [
        "test_df"
      ],
      "execution_count": 0,
      "outputs": [
        {
          "output_type": "execute_result",
          "data": {
            "text/html": [
              "<div>\n",
              "<style scoped>\n",
              "    .dataframe tbody tr th:only-of-type {\n",
              "        vertical-align: middle;\n",
              "    }\n",
              "\n",
              "    .dataframe tbody tr th {\n",
              "        vertical-align: top;\n",
              "    }\n",
              "\n",
              "    .dataframe thead th {\n",
              "        text-align: right;\n",
              "    }\n",
              "</style>\n",
              "<table border=\"1\" class=\"dataframe\">\n",
              "  <thead>\n",
              "    <tr style=\"text-align: right;\">\n",
              "      <th></th>\n",
              "      <th>id</th>\n",
              "      <th>boneage</th>\n",
              "      <th>male</th>\n",
              "      <th>file</th>\n",
              "      <th>exists</th>\n",
              "      <th>boneage_zscore</th>\n",
              "      <th>gender</th>\n",
              "      <th>boneage_category</th>\n",
              "    </tr>\n",
              "  </thead>\n",
              "  <tbody>\n",
              "    <tr>\n",
              "      <th>3441</th>\n",
              "      <td>5395</td>\n",
              "      <td>228</td>\n",
              "      <td>True</td>\n",
              "      <td>/gdrive/My Drive/boneage-training-dataset/5395...</td>\n",
              "      <td>True</td>\n",
              "      <td>1.222725</td>\n",
              "      <td>1</td>\n",
              "      <td>(205.3, 228.0]</td>\n",
              "    </tr>\n",
              "    <tr>\n",
              "      <th>631</th>\n",
              "      <td>2087</td>\n",
              "      <td>84</td>\n",
              "      <td>True</td>\n",
              "      <td>/gdrive/My Drive/boneage-training-dataset/2087...</td>\n",
              "      <td>True</td>\n",
              "      <td>-0.525796</td>\n",
              "      <td>1</td>\n",
              "      <td>(69.1, 91.8]</td>\n",
              "    </tr>\n",
              "    <tr>\n",
              "      <th>1663</th>\n",
              "      <td>3232</td>\n",
              "      <td>174</td>\n",
              "      <td>True</td>\n",
              "      <td>/gdrive/My Drive/boneage-training-dataset/3232...</td>\n",
              "      <td>True</td>\n",
              "      <td>0.567030</td>\n",
              "      <td>1</td>\n",
              "      <td>(159.9, 182.6]</td>\n",
              "    </tr>\n",
              "    <tr>\n",
              "      <th>6316</th>\n",
              "      <td>8584</td>\n",
              "      <td>144</td>\n",
              "      <td>False</td>\n",
              "      <td>/gdrive/My Drive/boneage-training-dataset/8584...</td>\n",
              "      <td>True</td>\n",
              "      <td>0.202754</td>\n",
              "      <td>0</td>\n",
              "      <td>(137.2, 159.9]</td>\n",
              "    </tr>\n",
              "    <tr>\n",
              "      <th>7993</th>\n",
              "      <td>10450</td>\n",
              "      <td>50</td>\n",
              "      <td>False</td>\n",
              "      <td>/gdrive/My Drive/boneage-training-dataset/1045...</td>\n",
              "      <td>True</td>\n",
              "      <td>-0.938642</td>\n",
              "      <td>0</td>\n",
              "      <td>(46.4, 69.1]</td>\n",
              "    </tr>\n",
              "    <tr>\n",
              "      <th>...</th>\n",
              "      <td>...</td>\n",
              "      <td>...</td>\n",
              "      <td>...</td>\n",
              "      <td>...</td>\n",
              "      <td>...</td>\n",
              "      <td>...</td>\n",
              "      <td>...</td>\n",
              "      <td>...</td>\n",
              "    </tr>\n",
              "    <tr>\n",
              "      <th>10968</th>\n",
              "      <td>13788</td>\n",
              "      <td>168</td>\n",
              "      <td>True</td>\n",
              "      <td>/gdrive/My Drive/boneage-training-dataset/1378...</td>\n",
              "      <td>True</td>\n",
              "      <td>0.494175</td>\n",
              "      <td>1</td>\n",
              "      <td>(159.9, 182.6]</td>\n",
              "    </tr>\n",
              "    <tr>\n",
              "      <th>7433</th>\n",
              "      <td>9826</td>\n",
              "      <td>114</td>\n",
              "      <td>True</td>\n",
              "      <td>/gdrive/My Drive/boneage-training-dataset/9826...</td>\n",
              "      <td>True</td>\n",
              "      <td>-0.161521</td>\n",
              "      <td>1</td>\n",
              "      <td>(91.8, 114.5]</td>\n",
              "    </tr>\n",
              "    <tr>\n",
              "      <th>7564</th>\n",
              "      <td>9967</td>\n",
              "      <td>120</td>\n",
              "      <td>False</td>\n",
              "      <td>/gdrive/My Drive/boneage-training-dataset/9967...</td>\n",
              "      <td>True</td>\n",
              "      <td>-0.088666</td>\n",
              "      <td>0</td>\n",
              "      <td>(114.5, 137.2]</td>\n",
              "    </tr>\n",
              "    <tr>\n",
              "      <th>10584</th>\n",
              "      <td>13353</td>\n",
              "      <td>96</td>\n",
              "      <td>True</td>\n",
              "      <td>/gdrive/My Drive/boneage-training-dataset/1335...</td>\n",
              "      <td>True</td>\n",
              "      <td>-0.380086</td>\n",
              "      <td>1</td>\n",
              "      <td>(91.8, 114.5]</td>\n",
              "    </tr>\n",
              "    <tr>\n",
              "      <th>7436</th>\n",
              "      <td>9829</td>\n",
              "      <td>132</td>\n",
              "      <td>True</td>\n",
              "      <td>/gdrive/My Drive/boneage-training-dataset/9829...</td>\n",
              "      <td>True</td>\n",
              "      <td>0.057044</td>\n",
              "      <td>1</td>\n",
              "      <td>(114.5, 137.2]</td>\n",
              "    </tr>\n",
              "  </tbody>\n",
              "</table>\n",
              "<p>788 rows × 8 columns</p>\n",
              "</div>"
            ],
            "text/plain": [
              "          id  boneage   male  ... boneage_zscore  gender  boneage_category\n",
              "3441    5395      228   True  ...       1.222725       1    (205.3, 228.0]\n",
              "631     2087       84   True  ...      -0.525796       1      (69.1, 91.8]\n",
              "1663    3232      174   True  ...       0.567030       1    (159.9, 182.6]\n",
              "6316    8584      144  False  ...       0.202754       0    (137.2, 159.9]\n",
              "7993   10450       50  False  ...      -0.938642       0      (46.4, 69.1]\n",
              "...      ...      ...    ...  ...            ...     ...               ...\n",
              "10968  13788      168   True  ...       0.494175       1    (159.9, 182.6]\n",
              "7433    9826      114   True  ...      -0.161521       1     (91.8, 114.5]\n",
              "7564    9967      120  False  ...      -0.088666       0    (114.5, 137.2]\n",
              "10584  13353       96   True  ...      -0.380086       1     (91.8, 114.5]\n",
              "7436    9829      132   True  ...       0.057044       1    (114.5, 137.2]\n",
              "\n",
              "[788 rows x 8 columns]"
            ]
          },
          "metadata": {
            "tags": []
          },
          "execution_count": 35
        }
      ]
    },
    {
      "cell_type": "code",
      "metadata": {
        "colab_type": "code",
        "id": "fNOBiST7rzrv",
        "outputId": "a7292399-76fe-4afd-edf4-a9dd927d8f1e",
        "colab": {
          "base_uri": "https://localhost:8080/",
          "height": 295
        }
      },
      "source": [
        "\n",
        "fig, ax = plt.subplots()\n",
        "ax = sns.distplot(train_df['boneage'], bins=10)\n",
        "ax.set(xlabel='Boneage (months)', ylabel='Density',\n",
        "    title='Boneage training distribution');"
      ],
      "execution_count": 41,
      "outputs": [
        {
          "output_type": "display_data",
          "data": {
            "image/png": "[encoded data removed]",
            "text/plain": [
              "<Figure size 432x288 with 1 Axes>"
            ]
          },
          "metadata": {
            "tags": []
          }
        }
      ]
    },
    {
      "cell_type": "code",
      "metadata": {
        "colab_type": "code",
        "id": "1ukKdXe2rzry",
        "colab": {}
      },
      "source": [
        "\n",
        "import keras\n",
        "optim = keras.optimizers.Nadam(lr=LEARNING_RATE, beta_1=0.9, beta_2=0.999, epsilon=1e-08, schedule_decay=0.0003)"
      ],
      "execution_count": 0,
      "outputs": []
    },
    {
      "cell_type": "code",
      "metadata": {
        "colab_type": "code",
        "id": "7UOeh7j1rzr0",
        "colab": {}
      },
      "source": [
        "#############################################dont exceute\n",
        "weight_path = \"{}_weights.best.hdf5\".format('bone_age3')\n",
        "\n",
        "checkpoint = ModelCheckpoint(weight_path, monitor='val_loss', verbose=1,save_best_only=True, mode='min', save_weights_only=True)\n",
        "\n",
        "reduceLROnPlat = ReduceLROnPlateau(monitor='val_loss', factor=0.8,patience=10, verbose=1, mode='auto', min_delta=0.0001, cooldown=5,min_lr=0.00006)\n",
        "early = EarlyStopping(monitor=\"val_loss\", mode=\"min\", patience=8)\n",
        "callbacks_list = [checkpoint, early, reduceLROnPlat]"
      ],
      "execution_count": 0,
      "outputs": []
    },
    {
      "cell_type": "code",
      "metadata": {
        "colab_type": "code",
        "id": "Y7N1Zepvrzr5",
        "colab": {}
      },
      "source": [
        "BATCH_SIZE_TEST = len(test_df) // 3\n",
        "STEP_SIZE_TEST = 3\n",
        "STEP_SIZE_TRAIN = len(train_df) // BATCH_SIZE_TRAIN\n",
        "STEP_SIZE_VALID = len(valid_df) // BATCH_SIZE_VAL"
      ],
      "execution_count": 0,
      "outputs": []
    },
    {
      "cell_type": "code",
      "metadata": {
        "colab_type": "code",
        "id": "coFoF7dtrzsA",
        "colab": {}
      },
      "source": [
        "def gen_2inputs(imgDatGen, df, batch_size, seed, img_size):\n",
        "    gen_img = imgDatGen.flow_from_dataframe(dataframe=df,\n",
        "        x_col='file', y_col='boneage_zscore',\n",
        "        batch_size=batch_size, seed=seed, shuffle=True, class_mode='other',\n",
        "        target_size=img_size, color_mode='rgb',\n",
        "        drop_duplicates=False)\n",
        "    \n",
        "    gen_gender = imgDatGen.flow_from_dataframe(dataframe=df,\n",
        "        x_col='file', y_col='gender',\n",
        "        batch_size=batch_size, seed=seed, shuffle=True, class_mode='other',\n",
        "        target_size=img_size, color_mode='rgb',\n",
        "        drop_duplicates=False)\n",
        "    \n",
        "    while True:\n",
        "        X1i = gen_img.next()\n",
        "        X2i = gen_gender.next()\n",
        "        yield [X1i[0], X2i[1]], X1i[1]"
      ],
      "execution_count": 0,
      "outputs": []
    },
    {
      "cell_type": "code",
      "metadata": {
        "colab_type": "code",
        "id": "JXejFnEErzsH",
        "colab": {}
      },
      "source": [
        "def test_gen_2inputs(imgDatGen, df, batch_size, img_size):\n",
        "    gen_img = imgDatGen.flow_from_dataframe(dataframe=df,\n",
        "        x_col='file', y_col='boneage_zscore',\n",
        "        batch_size=batch_size, shuffle=False, class_mode='other',\n",
        "        target_size=img_size, color_mode='rgb',\n",
        "        drop_duplicates=False)\n",
        "    \n",
        "    gen_gender = imgDatGen.flow_from_dataframe(dataframe=df,\n",
        "        x_col='file', y_col='gender',\n",
        "        batch_size=batch_size, shuffle=False, class_mode='other',\n",
        "        target_size=img_size, color_mode='rgb',\n",
        "        drop_duplicates=False)\n",
        "    \n",
        "    while True:\n",
        "        X1i = gen_img.next()\n",
        "        X2i = gen_gender.next()\n",
        "        yield [X1i[0], X2i[1]], X1i[1]"
      ],
      "execution_count": 0,
      "outputs": []
    },
    {
      "cell_type": "code",
      "metadata": {
        "colab_type": "code",
        "id": "4eBzkfj7rzsK",
        "colab": {}
      },
      "source": [
        "train_idg = ImageDataGenerator(zoom_range=0.2,\n",
        "                               fill_mode='nearest',\n",
        "                               rotation_range=25,  \n",
        "                               width_shift_range=0.25,  \n",
        "                               height_shift_range=0.25,  \n",
        "                               vertical_flip=False, \n",
        "                               horizontal_flip=True,\n",
        "                               shear_range = 0.2,\n",
        "                               samplewise_center=False, \n",
        "                               samplewise_std_normalization=False)\n",
        "\n",
        "val_idg = ImageDataGenerator(width_shift_range=0.25, height_shift_range=0.25, horizontal_flip=True)\n",
        "\n",
        "train_flow = gen_2inputs(train_idg, train_df, BATCH_SIZE_TRAIN, SEED, IMG_SIZE)\n",
        "\n",
        "valid_flow = gen_2inputs(val_idg, valid_df, BATCH_SIZE_VAL, SEED, IMG_SIZE)\n",
        "\n",
        "test_idg = ImageDataGenerator()\n",
        "\n",
        "test_flow = test_gen_2inputs(test_idg, test_df, 789, IMG_SIZE)"
      ],
      "execution_count": 0,
      "outputs": []
    },
    {
      "cell_type": "code",
      "metadata": {
        "colab_type": "code",
        "id": "5VKn6YQCrzsP",
        "colab": {}
      },
      "source": [
        "\n",
        "def mae_months(in_gt, in_pred):\n",
        "    return mean_absolute_error(boneage_div * in_gt, boneage_div * in_pred)"
      ],
      "execution_count": 0,
      "outputs": []
    },
    {
      "cell_type": "code",
      "metadata": {
        "colab_type": "code",
        "id": "3rV-ONsDrzsT",
        "outputId": "b5aa8b60-edaf-4d9a-e17d-2a7b76f41e7a",
        "colab": {
          "base_uri": "https://localhost:8080/",
          "height": 1000
        }
      },
      "source": [
        "\n",
        "i1 = Input(shape=(299, 299, 3), name='input_img')\n",
        "i2 = Input(shape=(1,), name='input_gender')\n",
        "base = InceptionV3(input_tensor=i1, input_shape=(299, 299, 3), include_top=False, weights=None)\n",
        "\n",
        "feature_img = base.get_layer(name='mixed10').output\n",
        "feature_img = AveragePooling2D((2, 2))(feature_img)\n",
        "feature_img = Flatten()(feature_img)\n",
        "feature_gender = Dense(32, activation='relu')(i2)\n",
        "feature = concatenate([feature_img, feature_gender], axis=1)\n",
        "\n",
        "# feature = feature_img\n",
        "o = Dense(1000, activation='relu')(feature)\n",
        "o = Dense(1000, activation='relu')(o)\n",
        "o = Dense(1)(o)\n",
        "model = Model(inputs=[i1, i2], outputs=o)\n",
        "optimizer = Adam(lr=1e-3)\n",
        "model.compile(loss='mean_absolute_error', optimizer=optimizer, metrics=['mae'])\n",
        "\n",
        "print('==================================================')\n",
        "print('======= Training Model on Boneage Dataset ========')\n",
        "print('==================================================')\n",
        "\n",
        "#print('current time: %s' % str(datetime.now()))\n",
        "\n",
        "model.summary()\n",
        "\n"
      ],
      "execution_count": 49,
      "outputs": [
        {
          "output_type": "stream",
          "text": [
            "==================================================\n",
            "======= Training Model on Boneage Dataset ========\n",
            "==================================================\n",
            "Model: \"model_2\"\n",
            "__________________________________________________________________________________________________\n",
            "Layer (type)                    Output Shape         Param #     Connected to                     \n",
            "==================================================================================================\n",
            "input_img (InputLayer)          (None, 299, 299, 3)  0                                            \n",
            "__________________________________________________________________________________________________\n",
            "conv2d_95 (Conv2D)              (None, 149, 149, 32) 864         input_img[0][0]                  \n",
            "__________________________________________________________________________________________________\n",
            "batch_normalization_95 (BatchNo (None, 149, 149, 32) 96          conv2d_95[0][0]                  \n",
            "__________________________________________________________________________________________________\n",
            "activation_95 (Activation)      (None, 149, 149, 32) 0           batch_normalization_95[0][0]     \n",
            "__________________________________________________________________________________________________\n",
            "conv2d_96 (Conv2D)              (None, 147, 147, 32) 9216        activation_95[0][0]              \n",
            "__________________________________________________________________________________________________\n",
            "batch_normalization_96 (BatchNo (None, 147, 147, 32) 96          conv2d_96[0][0]                  \n",
            "__________________________________________________________________________________________________\n",
            "activation_96 (Activation)      (None, 147, 147, 32) 0           batch_normalization_96[0][0]     \n",
            "__________________________________________________________________________________________________\n",
            "conv2d_97 (Conv2D)              (None, 147, 147, 64) 18432       activation_96[0][0]              \n",
            "__________________________________________________________________________________________________\n",
            "batch_normalization_97 (BatchNo (None, 147, 147, 64) 192         conv2d_97[0][0]                  \n",
            "__________________________________________________________________________________________________\n",
            "activation_97 (Activation)      (None, 147, 147, 64) 0           batch_normalization_97[0][0]     \n",
            "__________________________________________________________________________________________________\n",
            "max_pooling2d_5 (MaxPooling2D)  (None, 73, 73, 64)   0           activation_97[0][0]              \n",
            "__________________________________________________________________________________________________\n",
            "conv2d_98 (Conv2D)              (None, 73, 73, 80)   5120        max_pooling2d_5[0][0]            \n",
            "__________________________________________________________________________________________________\n",
            "batch_normalization_98 (BatchNo (None, 73, 73, 80)   240         conv2d_98[0][0]                  \n",
            "__________________________________________________________________________________________________\n",
            "activation_98 (Activation)      (None, 73, 73, 80)   0           batch_normalization_98[0][0]     \n",
            "__________________________________________________________________________________________________\n",
            "conv2d_99 (Conv2D)              (None, 71, 71, 192)  138240      activation_98[0][0]              \n",
            "__________________________________________________________________________________________________\n",
            "batch_normalization_99 (BatchNo (None, 71, 71, 192)  576         conv2d_99[0][0]                  \n",
            "__________________________________________________________________________________________________\n",
            "activation_99 (Activation)      (None, 71, 71, 192)  0           batch_normalization_99[0][0]     \n",
            "__________________________________________________________________________________________________\n",
            "max_pooling2d_6 (MaxPooling2D)  (None, 35, 35, 192)  0           activation_99[0][0]              \n",
            "__________________________________________________________________________________________________\n",
            "conv2d_103 (Conv2D)             (None, 35, 35, 64)   12288       max_pooling2d_6[0][0]            \n",
            "__________________________________________________________________________________________________\n",
            "batch_normalization_103 (BatchN (None, 35, 35, 64)   192         conv2d_103[0][0]                 \n",
            "__________________________________________________________________________________________________\n",
            "activation_103 (Activation)     (None, 35, 35, 64)   0           batch_normalization_103[0][0]    \n",
            "__________________________________________________________________________________________________\n",
            "conv2d_101 (Conv2D)             (None, 35, 35, 48)   9216        max_pooling2d_6[0][0]            \n",
            "__________________________________________________________________________________________________\n",
            "conv2d_104 (Conv2D)             (None, 35, 35, 96)   55296       activation_103[0][0]             \n",
            "__________________________________________________________________________________________________\n",
            "batch_normalization_101 (BatchN (None, 35, 35, 48)   144         conv2d_101[0][0]                 \n",
            "__________________________________________________________________________________________________\n",
            "batch_normalization_104 (BatchN (None, 35, 35, 96)   288         conv2d_104[0][0]                 \n",
            "__________________________________________________________________________________________________\n",
            "activation_101 (Activation)     (None, 35, 35, 48)   0           batch_normalization_101[0][0]    \n",
            "__________________________________________________________________________________________________\n",
            "activation_104 (Activation)     (None, 35, 35, 96)   0           batch_normalization_104[0][0]    \n",
            "__________________________________________________________________________________________________\n",
            "average_pooling2d_11 (AveragePo (None, 35, 35, 192)  0           max_pooling2d_6[0][0]            \n",
            "__________________________________________________________________________________________________\n",
            "conv2d_100 (Conv2D)             (None, 35, 35, 64)   12288       max_pooling2d_6[0][0]            \n",
            "__________________________________________________________________________________________________\n",
            "conv2d_102 (Conv2D)             (None, 35, 35, 64)   76800       activation_101[0][0]             \n",
            "__________________________________________________________________________________________________\n",
            "conv2d_105 (Conv2D)             (None, 35, 35, 96)   82944       activation_104[0][0]             \n",
            "__________________________________________________________________________________________________\n",
            "conv2d_106 (Conv2D)             (None, 35, 35, 32)   6144        average_pooling2d_11[0][0]       \n",
            "__________________________________________________________________________________________________\n",
            "batch_normalization_100 (BatchN (None, 35, 35, 64)   192         conv2d_100[0][0]                 \n",
            "__________________________________________________________________________________________________\n",
            "batch_normalization_102 (BatchN (None, 35, 35, 64)   192         conv2d_102[0][0]                 \n",
            "__________________________________________________________________________________________________\n",
            "batch_normalization_105 (BatchN (None, 35, 35, 96)   288         conv2d_105[0][0]                 \n",
            "__________________________________________________________________________________________________\n",
            "batch_normalization_106 (BatchN (None, 35, 35, 32)   96          conv2d_106[0][0]                 \n",
            "__________________________________________________________________________________________________\n",
            "activation_100 (Activation)     (None, 35, 35, 64)   0           batch_normalization_100[0][0]    \n",
            "__________________________________________________________________________________________________\n",
            "activation_102 (Activation)     (None, 35, 35, 64)   0           batch_normalization_102[0][0]    \n",
            "__________________________________________________________________________________________________\n",
            "activation_105 (Activation)     (None, 35, 35, 96)   0           batch_normalization_105[0][0]    \n",
            "__________________________________________________________________________________________________\n",
            "activation_106 (Activation)     (None, 35, 35, 32)   0           batch_normalization_106[0][0]    \n",
            "__________________________________________________________________________________________________\n",
            "mixed0 (Concatenate)            (None, 35, 35, 256)  0           activation_100[0][0]             \n",
            "                                                                 activation_102[0][0]             \n",
            "                                                                 activation_105[0][0]             \n",
            "                                                                 activation_106[0][0]             \n",
            "__________________________________________________________________________________________________\n",
            "conv2d_110 (Conv2D)             (None, 35, 35, 64)   16384       mixed0[0][0]                     \n",
            "__________________________________________________________________________________________________\n",
            "batch_normalization_110 (BatchN (None, 35, 35, 64)   192         conv2d_110[0][0]                 \n",
            "__________________________________________________________________________________________________\n",
            "activation_110 (Activation)     (None, 35, 35, 64)   0           batch_normalization_110[0][0]    \n",
            "__________________________________________________________________________________________________\n",
            "conv2d_108 (Conv2D)             (None, 35, 35, 48)   12288       mixed0[0][0]                     \n",
            "__________________________________________________________________________________________________\n",
            "conv2d_111 (Conv2D)             (None, 35, 35, 96)   55296       activation_110[0][0]             \n",
            "__________________________________________________________________________________________________\n",
            "batch_normalization_108 (BatchN (None, 35, 35, 48)   144         conv2d_108[0][0]                 \n",
            "__________________________________________________________________________________________________\n",
            "batch_normalization_111 (BatchN (None, 35, 35, 96)   288         conv2d_111[0][0]                 \n",
            "__________________________________________________________________________________________________\n",
            "activation_108 (Activation)     (None, 35, 35, 48)   0           batch_normalization_108[0][0]    \n",
            "__________________________________________________________________________________________________\n",
            "activation_111 (Activation)     (None, 35, 35, 96)   0           batch_normalization_111[0][0]    \n",
            "__________________________________________________________________________________________________\n",
            "average_pooling2d_12 (AveragePo (None, 35, 35, 256)  0           mixed0[0][0]                     \n",
            "__________________________________________________________________________________________________\n",
            "conv2d_107 (Conv2D)             (None, 35, 35, 64)   16384       mixed0[0][0]                     \n",
            "__________________________________________________________________________________________________\n",
            "conv2d_109 (Conv2D)             (None, 35, 35, 64)   76800       activation_108[0][0]             \n",
            "__________________________________________________________________________________________________\n",
            "conv2d_112 (Conv2D)             (None, 35, 35, 96)   82944       activation_111[0][0]             \n",
            "__________________________________________________________________________________________________\n",
            "conv2d_113 (Conv2D)             (None, 35, 35, 64)   16384       average_pooling2d_12[0][0]       \n",
            "__________________________________________________________________________________________________\n",
            "batch_normalization_107 (BatchN (None, 35, 35, 64)   192         conv2d_107[0][0]                 \n",
            "__________________________________________________________________________________________________\n",
            "batch_normalization_109 (BatchN (None, 35, 35, 64)   192         conv2d_109[0][0]                 \n",
            "__________________________________________________________________________________________________\n",
            "batch_normalization_112 (BatchN (None, 35, 35, 96)   288         conv2d_112[0][0]                 \n",
            "__________________________________________________________________________________________________\n",
            "batch_normalization_113 (BatchN (None, 35, 35, 64)   192         conv2d_113[0][0]                 \n",
            "__________________________________________________________________________________________________\n",
            "activation_107 (Activation)     (None, 35, 35, 64)   0           batch_normalization_107[0][0]    \n",
            "__________________________________________________________________________________________________\n",
            "activation_109 (Activation)     (None, 35, 35, 64)   0           batch_normalization_109[0][0]    \n",
            "__________________________________________________________________________________________________\n",
            "activation_112 (Activation)     (None, 35, 35, 96)   0           batch_normalization_112[0][0]    \n",
            "__________________________________________________________________________________________________\n",
            "activation_113 (Activation)     (None, 35, 35, 64)   0           batch_normalization_113[0][0]    \n",
            "__________________________________________________________________________________________________\n",
            "mixed1 (Concatenate)            (None, 35, 35, 288)  0           activation_107[0][0]             \n",
            "                                                                 activation_109[0][0]             \n",
            "                                                                 activation_112[0][0]             \n",
            "                                                                 activation_113[0][0]             \n",
            "__________________________________________________________________________________________________\n",
            "conv2d_117 (Conv2D)             (None, 35, 35, 64)   18432       mixed1[0][0]                     \n",
            "__________________________________________________________________________________________________\n",
            "batch_normalization_117 (BatchN (None, 35, 35, 64)   192         conv2d_117[0][0]                 \n",
            "__________________________________________________________________________________________________\n",
            "activation_117 (Activation)     (None, 35, 35, 64)   0           batch_normalization_117[0][0]    \n",
            "__________________________________________________________________________________________________\n",
            "conv2d_115 (Conv2D)             (None, 35, 35, 48)   13824       mixed1[0][0]                     \n",
            "__________________________________________________________________________________________________\n",
            "conv2d_118 (Conv2D)             (None, 35, 35, 96)   55296       activation_117[0][0]             \n",
            "__________________________________________________________________________________________________\n",
            "batch_normalization_115 (BatchN (None, 35, 35, 48)   144         conv2d_115[0][0]                 \n",
            "__________________________________________________________________________________________________\n",
            "batch_normalization_118 (BatchN (None, 35, 35, 96)   288         conv2d_118[0][0]                 \n",
            "__________________________________________________________________________________________________\n",
            "activation_115 (Activation)     (None, 35, 35, 48)   0           batch_normalization_115[0][0]    \n",
            "__________________________________________________________________________________________________\n",
            "activation_118 (Activation)     (None, 35, 35, 96)   0           batch_normalization_118[0][0]    \n",
            "__________________________________________________________________________________________________\n",
            "average_pooling2d_13 (AveragePo (None, 35, 35, 288)  0           mixed1[0][0]                     \n",
            "__________________________________________________________________________________________________\n",
            "conv2d_114 (Conv2D)             (None, 35, 35, 64)   18432       mixed1[0][0]                     \n",
            "__________________________________________________________________________________________________\n",
            "conv2d_116 (Conv2D)             (None, 35, 35, 64)   76800       activation_115[0][0]             \n",
            "__________________________________________________________________________________________________\n",
            "conv2d_119 (Conv2D)             (None, 35, 35, 96)   82944       activation_118[0][0]             \n",
            "__________________________________________________________________________________________________\n",
            "conv2d_120 (Conv2D)             (None, 35, 35, 64)   18432       average_pooling2d_13[0][0]       \n",
            "__________________________________________________________________________________________________\n",
            "batch_normalization_114 (BatchN (None, 35, 35, 64)   192         conv2d_114[0][0]                 \n",
            "__________________________________________________________________________________________________\n",
            "batch_normalization_116 (BatchN (None, 35, 35, 64)   192         conv2d_116[0][0]                 \n",
            "__________________________________________________________________________________________________\n",
            "batch_normalization_119 (BatchN (None, 35, 35, 96)   288         conv2d_119[0][0]                 \n",
            "__________________________________________________________________________________________________\n",
            "batch_normalization_120 (BatchN (None, 35, 35, 64)   192         conv2d_120[0][0]                 \n",
            "__________________________________________________________________________________________________\n",
            "activation_114 (Activation)     (None, 35, 35, 64)   0           batch_normalization_114[0][0]    \n",
            "__________________________________________________________________________________________________\n",
            "activation_116 (Activation)     (None, 35, 35, 64)   0           batch_normalization_116[0][0]    \n",
            "__________________________________________________________________________________________________\n",
            "activation_119 (Activation)     (None, 35, 35, 96)   0           batch_normalization_119[0][0]    \n",
            "__________________________________________________________________________________________________\n",
            "activation_120 (Activation)     (None, 35, 35, 64)   0           batch_normalization_120[0][0]    \n",
            "__________________________________________________________________________________________________\n",
            "mixed2 (Concatenate)            (None, 35, 35, 288)  0           activation_114[0][0]             \n",
            "                                                                 activation_116[0][0]             \n",
            "                                                                 activation_119[0][0]             \n",
            "                                                                 activation_120[0][0]             \n",
            "__________________________________________________________________________________________________\n",
            "conv2d_122 (Conv2D)             (None, 35, 35, 64)   18432       mixed2[0][0]                     \n",
            "__________________________________________________________________________________________________\n",
            "batch_normalization_122 (BatchN (None, 35, 35, 64)   192         conv2d_122[0][0]                 \n",
            "__________________________________________________________________________________________________\n",
            "activation_122 (Activation)     (None, 35, 35, 64)   0           batch_normalization_122[0][0]    \n",
            "__________________________________________________________________________________________________\n",
            "conv2d_123 (Conv2D)             (None, 35, 35, 96)   55296       activation_122[0][0]             \n",
            "__________________________________________________________________________________________________\n",
            "batch_normalization_123 (BatchN (None, 35, 35, 96)   288         conv2d_123[0][0]                 \n",
            "__________________________________________________________________________________________________\n",
            "activation_123 (Activation)     (None, 35, 35, 96)   0           batch_normalization_123[0][0]    \n",
            "__________________________________________________________________________________________________\n",
            "conv2d_121 (Conv2D)             (None, 17, 17, 384)  995328      mixed2[0][0]                     \n",
            "__________________________________________________________________________________________________\n",
            "conv2d_124 (Conv2D)             (None, 17, 17, 96)   82944       activation_123[0][0]             \n",
            "__________________________________________________________________________________________________\n",
            "batch_normalization_121 (BatchN (None, 17, 17, 384)  1152        conv2d_121[0][0]                 \n",
            "__________________________________________________________________________________________________\n",
            "batch_normalization_124 (BatchN (None, 17, 17, 96)   288         conv2d_124[0][0]                 \n",
            "__________________________________________________________________________________________________\n",
            "activation_121 (Activation)     (None, 17, 17, 384)  0           batch_normalization_121[0][0]    \n",
            "__________________________________________________________________________________________________\n",
            "activation_124 (Activation)     (None, 17, 17, 96)   0           batch_normalization_124[0][0]    \n",
            "__________________________________________________________________________________________________\n",
            "max_pooling2d_7 (MaxPooling2D)  (None, 17, 17, 288)  0           mixed2[0][0]                     \n",
            "__________________________________________________________________________________________________\n",
            "mixed3 (Concatenate)            (None, 17, 17, 768)  0           activation_121[0][0]             \n",
            "                                                                 activation_124[0][0]             \n",
            "                                                                 max_pooling2d_7[0][0]            \n",
            "__________________________________________________________________________________________________\n",
            "conv2d_129 (Conv2D)             (None, 17, 17, 128)  98304       mixed3[0][0]                     \n",
            "__________________________________________________________________________________________________\n",
            "batch_normalization_129 (BatchN (None, 17, 17, 128)  384         conv2d_129[0][0]                 \n",
            "__________________________________________________________________________________________________\n",
            "activation_129 (Activation)     (None, 17, 17, 128)  0           batch_normalization_129[0][0]    \n",
            "__________________________________________________________________________________________________\n",
            "conv2d_130 (Conv2D)             (None, 17, 17, 128)  114688      activation_129[0][0]             \n",
            "__________________________________________________________________________________________________\n",
            "batch_normalization_130 (BatchN (None, 17, 17, 128)  384         conv2d_130[0][0]                 \n",
            "__________________________________________________________________________________________________\n",
            "activation_130 (Activation)     (None, 17, 17, 128)  0           batch_normalization_130[0][0]    \n",
            "__________________________________________________________________________________________________\n",
            "conv2d_126 (Conv2D)             (None, 17, 17, 128)  98304       mixed3[0][0]                     \n",
            "__________________________________________________________________________________________________\n",
            "conv2d_131 (Conv2D)             (None, 17, 17, 128)  114688      activation_130[0][0]             \n",
            "__________________________________________________________________________________________________\n",
            "batch_normalization_126 (BatchN (None, 17, 17, 128)  384         conv2d_126[0][0]                 \n",
            "__________________________________________________________________________________________________\n",
            "batch_normalization_131 (BatchN (None, 17, 17, 128)  384         conv2d_131[0][0]                 \n",
            "__________________________________________________________________________________________________\n",
            "activation_126 (Activation)     (None, 17, 17, 128)  0           batch_normalization_126[0][0]    \n",
            "__________________________________________________________________________________________________\n",
            "activation_131 (Activation)     (None, 17, 17, 128)  0           batch_normalization_131[0][0]    \n",
            "__________________________________________________________________________________________________\n",
            "conv2d_127 (Conv2D)             (None, 17, 17, 128)  114688      activation_126[0][0]             \n",
            "__________________________________________________________________________________________________\n",
            "conv2d_132 (Conv2D)             (None, 17, 17, 128)  114688      activation_131[0][0]             \n",
            "__________________________________________________________________________________________________\n",
            "batch_normalization_127 (BatchN (None, 17, 17, 128)  384         conv2d_127[0][0]                 \n",
            "__________________________________________________________________________________________________\n",
            "batch_normalization_132 (BatchN (None, 17, 17, 128)  384         conv2d_132[0][0]                 \n",
            "__________________________________________________________________________________________________\n",
            "activation_127 (Activation)     (None, 17, 17, 128)  0           batch_normalization_127[0][0]    \n",
            "__________________________________________________________________________________________________\n",
            "activation_132 (Activation)     (None, 17, 17, 128)  0           batch_normalization_132[0][0]    \n",
            "__________________________________________________________________________________________________\n",
            "average_pooling2d_14 (AveragePo (None, 17, 17, 768)  0           mixed3[0][0]                     \n",
            "__________________________________________________________________________________________________\n",
            "conv2d_125 (Conv2D)             (None, 17, 17, 192)  147456      mixed3[0][0]                     \n",
            "__________________________________________________________________________________________________\n",
            "conv2d_128 (Conv2D)             (None, 17, 17, 192)  172032      activation_127[0][0]             \n",
            "__________________________________________________________________________________________________\n",
            "conv2d_133 (Conv2D)             (None, 17, 17, 192)  172032      activation_132[0][0]             \n",
            "__________________________________________________________________________________________________\n",
            "conv2d_134 (Conv2D)             (None, 17, 17, 192)  147456      average_pooling2d_14[0][0]       \n",
            "__________________________________________________________________________________________________\n",
            "batch_normalization_125 (BatchN (None, 17, 17, 192)  576         conv2d_125[0][0]                 \n",
            "__________________________________________________________________________________________________\n",
            "batch_normalization_128 (BatchN (None, 17, 17, 192)  576         conv2d_128[0][0]                 \n",
            "__________________________________________________________________________________________________\n",
            "batch_normalization_133 (BatchN (None, 17, 17, 192)  576         conv2d_133[0][0]                 \n",
            "__________________________________________________________________________________________________\n",
            "batch_normalization_134 (BatchN (None, 17, 17, 192)  576         conv2d_134[0][0]                 \n",
            "__________________________________________________________________________________________________\n",
            "activation_125 (Activation)     (None, 17, 17, 192)  0           batch_normalization_125[0][0]    \n",
            "__________________________________________________________________________________________________\n",
            "activation_128 (Activation)     (None, 17, 17, 192)  0           batch_normalization_128[0][0]    \n",
            "__________________________________________________________________________________________________\n",
            "activation_133 (Activation)     (None, 17, 17, 192)  0           batch_normalization_133[0][0]    \n",
            "__________________________________________________________________________________________________\n",
            "activation_134 (Activation)     (None, 17, 17, 192)  0           batch_normalization_134[0][0]    \n",
            "__________________________________________________________________________________________________\n",
            "mixed4 (Concatenate)            (None, 17, 17, 768)  0           activation_125[0][0]             \n",
            "                                                                 activation_128[0][0]             \n",
            "                                                                 activation_133[0][0]             \n",
            "                                                                 activation_134[0][0]             \n",
            "__________________________________________________________________________________________________\n",
            "conv2d_139 (Conv2D)             (None, 17, 17, 160)  122880      mixed4[0][0]                     \n",
            "__________________________________________________________________________________________________\n",
            "batch_normalization_139 (BatchN (None, 17, 17, 160)  480         conv2d_139[0][0]                 \n",
            "__________________________________________________________________________________________________\n",
            "activation_139 (Activation)     (None, 17, 17, 160)  0           batch_normalization_139[0][0]    \n",
            "__________________________________________________________________________________________________\n",
            "conv2d_140 (Conv2D)             (None, 17, 17, 160)  179200      activation_139[0][0]             \n",
            "__________________________________________________________________________________________________\n",
            "batch_normalization_140 (BatchN (None, 17, 17, 160)  480         conv2d_140[0][0]                 \n",
            "__________________________________________________________________________________________________\n",
            "activation_140 (Activation)     (None, 17, 17, 160)  0           batch_normalization_140[0][0]    \n",
            "__________________________________________________________________________________________________\n",
            "conv2d_136 (Conv2D)             (None, 17, 17, 160)  122880      mixed4[0][0]                     \n",
            "__________________________________________________________________________________________________\n",
            "conv2d_141 (Conv2D)             (None, 17, 17, 160)  179200      activation_140[0][0]             \n",
            "__________________________________________________________________________________________________\n",
            "batch_normalization_136 (BatchN (None, 17, 17, 160)  480         conv2d_136[0][0]                 \n",
            "__________________________________________________________________________________________________\n",
            "batch_normalization_141 (BatchN (None, 17, 17, 160)  480         conv2d_141[0][0]                 \n",
            "__________________________________________________________________________________________________\n",
            "activation_136 (Activation)     (None, 17, 17, 160)  0           batch_normalization_136[0][0]    \n",
            "__________________________________________________________________________________________________\n",
            "activation_141 (Activation)     (None, 17, 17, 160)  0           batch_normalization_141[0][0]    \n",
            "__________________________________________________________________________________________________\n",
            "conv2d_137 (Conv2D)             (None, 17, 17, 160)  179200      activation_136[0][0]             \n",
            "__________________________________________________________________________________________________\n",
            "conv2d_142 (Conv2D)             (None, 17, 17, 160)  179200      activation_141[0][0]             \n",
            "__________________________________________________________________________________________________\n",
            "batch_normalization_137 (BatchN (None, 17, 17, 160)  480         conv2d_137[0][0]                 \n",
            "__________________________________________________________________________________________________\n",
            "batch_normalization_142 (BatchN (None, 17, 17, 160)  480         conv2d_142[0][0]                 \n",
            "__________________________________________________________________________________________________\n",
            "activation_137 (Activation)     (None, 17, 17, 160)  0           batch_normalization_137[0][0]    \n",
            "__________________________________________________________________________________________________\n",
            "activation_142 (Activation)     (None, 17, 17, 160)  0           batch_normalization_142[0][0]    \n",
            "__________________________________________________________________________________________________\n",
            "average_pooling2d_15 (AveragePo (None, 17, 17, 768)  0           mixed4[0][0]                     \n",
            "__________________________________________________________________________________________________\n",
            "conv2d_135 (Conv2D)             (None, 17, 17, 192)  147456      mixed4[0][0]                     \n",
            "__________________________________________________________________________________________________\n",
            "conv2d_138 (Conv2D)             (None, 17, 17, 192)  215040      activation_137[0][0]             \n",
            "__________________________________________________________________________________________________\n",
            "conv2d_143 (Conv2D)             (None, 17, 17, 192)  215040      activation_142[0][0]             \n",
            "__________________________________________________________________________________________________\n",
            "conv2d_144 (Conv2D)             (None, 17, 17, 192)  147456      average_pooling2d_15[0][0]       \n",
            "__________________________________________________________________________________________________\n",
            "batch_normalization_135 (BatchN (None, 17, 17, 192)  576         conv2d_135[0][0]                 \n",
            "__________________________________________________________________________________________________\n",
            "batch_normalization_138 (BatchN (None, 17, 17, 192)  576         conv2d_138[0][0]                 \n",
            "__________________________________________________________________________________________________\n",
            "batch_normalization_143 (BatchN (None, 17, 17, 192)  576         conv2d_143[0][0]                 \n",
            "__________________________________________________________________________________________________\n",
            "batch_normalization_144 (BatchN (None, 17, 17, 192)  576         conv2d_144[0][0]                 \n",
            "__________________________________________________________________________________________________\n",
            "activation_135 (Activation)     (None, 17, 17, 192)  0           batch_normalization_135[0][0]    \n",
            "__________________________________________________________________________________________________\n",
            "activation_138 (Activation)     (None, 17, 17, 192)  0           batch_normalization_138[0][0]    \n",
            "__________________________________________________________________________________________________\n",
            "activation_143 (Activation)     (None, 17, 17, 192)  0           batch_normalization_143[0][0]    \n",
            "__________________________________________________________________________________________________\n",
            "activation_144 (Activation)     (None, 17, 17, 192)  0           batch_normalization_144[0][0]    \n",
            "__________________________________________________________________________________________________\n",
            "mixed5 (Concatenate)            (None, 17, 17, 768)  0           activation_135[0][0]             \n",
            "                                                                 activation_138[0][0]             \n",
            "                                                                 activation_143[0][0]             \n",
            "                                                                 activation_144[0][0]             \n",
            "__________________________________________________________________________________________________\n",
            "conv2d_149 (Conv2D)             (None, 17, 17, 160)  122880      mixed5[0][0]                     \n",
            "__________________________________________________________________________________________________\n",
            "batch_normalization_149 (BatchN (None, 17, 17, 160)  480         conv2d_149[0][0]                 \n",
            "__________________________________________________________________________________________________\n",
            "activation_149 (Activation)     (None, 17, 17, 160)  0           batch_normalization_149[0][0]    \n",
            "__________________________________________________________________________________________________\n",
            "conv2d_150 (Conv2D)             (None, 17, 17, 160)  179200      activation_149[0][0]             \n",
            "__________________________________________________________________________________________________\n",
            "batch_normalization_150 (BatchN (None, 17, 17, 160)  480         conv2d_150[0][0]                 \n",
            "__________________________________________________________________________________________________\n",
            "activation_150 (Activation)     (None, 17, 17, 160)  0           batch_normalization_150[0][0]    \n",
            "__________________________________________________________________________________________________\n",
            "conv2d_146 (Conv2D)             (None, 17, 17, 160)  122880      mixed5[0][0]                     \n",
            "__________________________________________________________________________________________________\n",
            "conv2d_151 (Conv2D)             (None, 17, 17, 160)  179200      activation_150[0][0]             \n",
            "__________________________________________________________________________________________________\n",
            "batch_normalization_146 (BatchN (None, 17, 17, 160)  480         conv2d_146[0][0]                 \n",
            "__________________________________________________________________________________________________\n",
            "batch_normalization_151 (BatchN (None, 17, 17, 160)  480         conv2d_151[0][0]                 \n",
            "__________________________________________________________________________________________________\n",
            "activation_146 (Activation)     (None, 17, 17, 160)  0           batch_normalization_146[0][0]    \n",
            "__________________________________________________________________________________________________\n",
            "activation_151 (Activation)     (None, 17, 17, 160)  0           batch_normalization_151[0][0]    \n",
            "__________________________________________________________________________________________________\n",
            "conv2d_147 (Conv2D)             (None, 17, 17, 160)  179200      activation_146[0][0]             \n",
            "__________________________________________________________________________________________________\n",
            "conv2d_152 (Conv2D)             (None, 17, 17, 160)  179200      activation_151[0][0]             \n",
            "__________________________________________________________________________________________________\n",
            "batch_normalization_147 (BatchN (None, 17, 17, 160)  480         conv2d_147[0][0]                 \n",
            "__________________________________________________________________________________________________\n",
            "batch_normalization_152 (BatchN (None, 17, 17, 160)  480         conv2d_152[0][0]                 \n",
            "__________________________________________________________________________________________________\n",
            "activation_147 (Activation)     (None, 17, 17, 160)  0           batch_normalization_147[0][0]    \n",
            "__________________________________________________________________________________________________\n",
            "activation_152 (Activation)     (None, 17, 17, 160)  0           batch_normalization_152[0][0]    \n",
            "__________________________________________________________________________________________________\n",
            "average_pooling2d_16 (AveragePo (None, 17, 17, 768)  0           mixed5[0][0]                     \n",
            "__________________________________________________________________________________________________\n",
            "conv2d_145 (Conv2D)             (None, 17, 17, 192)  147456      mixed5[0][0]                     \n",
            "__________________________________________________________________________________________________\n",
            "conv2d_148 (Conv2D)             (None, 17, 17, 192)  215040      activation_147[0][0]             \n",
            "__________________________________________________________________________________________________\n",
            "conv2d_153 (Conv2D)             (None, 17, 17, 192)  215040      activation_152[0][0]             \n",
            "__________________________________________________________________________________________________\n",
            "conv2d_154 (Conv2D)             (None, 17, 17, 192)  147456      average_pooling2d_16[0][0]       \n",
            "__________________________________________________________________________________________________\n",
            "batch_normalization_145 (BatchN (None, 17, 17, 192)  576         conv2d_145[0][0]                 \n",
            "__________________________________________________________________________________________________\n",
            "batch_normalization_148 (BatchN (None, 17, 17, 192)  576         conv2d_148[0][0]                 \n",
            "__________________________________________________________________________________________________\n",
            "batch_normalization_153 (BatchN (None, 17, 17, 192)  576         conv2d_153[0][0]                 \n",
            "__________________________________________________________________________________________________\n",
            "batch_normalization_154 (BatchN (None, 17, 17, 192)  576         conv2d_154[0][0]                 \n",
            "__________________________________________________________________________________________________\n",
            "activation_145 (Activation)     (None, 17, 17, 192)  0           batch_normalization_145[0][0]    \n",
            "__________________________________________________________________________________________________\n",
            "activation_148 (Activation)     (None, 17, 17, 192)  0           batch_normalization_148[0][0]    \n",
            "__________________________________________________________________________________________________\n",
            "activation_153 (Activation)     (None, 17, 17, 192)  0           batch_normalization_153[0][0]    \n",
            "__________________________________________________________________________________________________\n",
            "activation_154 (Activation)     (None, 17, 17, 192)  0           batch_normalization_154[0][0]    \n",
            "__________________________________________________________________________________________________\n",
            "mixed6 (Concatenate)            (None, 17, 17, 768)  0           activation_145[0][0]             \n",
            "                                                                 activation_148[0][0]             \n",
            "                                                                 activation_153[0][0]             \n",
            "                                                                 activation_154[0][0]             \n",
            "__________________________________________________________________________________________________\n",
            "conv2d_159 (Conv2D)             (None, 17, 17, 192)  147456      mixed6[0][0]                     \n",
            "__________________________________________________________________________________________________\n",
            "batch_normalization_159 (BatchN (None, 17, 17, 192)  576         conv2d_159[0][0]                 \n",
            "__________________________________________________________________________________________________\n",
            "activation_159 (Activation)     (None, 17, 17, 192)  0           batch_normalization_159[0][0]    \n",
            "__________________________________________________________________________________________________\n",
            "conv2d_160 (Conv2D)             (None, 17, 17, 192)  258048      activation_159[0][0]             \n",
            "__________________________________________________________________________________________________\n",
            "batch_normalization_160 (BatchN (None, 17, 17, 192)  576         conv2d_160[0][0]                 \n",
            "__________________________________________________________________________________________________\n",
            "activation_160 (Activation)     (None, 17, 17, 192)  0           batch_normalization_160[0][0]    \n",
            "__________________________________________________________________________________________________\n",
            "conv2d_156 (Conv2D)             (None, 17, 17, 192)  147456      mixed6[0][0]                     \n",
            "__________________________________________________________________________________________________\n",
            "conv2d_161 (Conv2D)             (None, 17, 17, 192)  258048      activation_160[0][0]             \n",
            "__________________________________________________________________________________________________\n",
            "batch_normalization_156 (BatchN (None, 17, 17, 192)  576         conv2d_156[0][0]                 \n",
            "__________________________________________________________________________________________________\n",
            "batch_normalization_161 (BatchN (None, 17, 17, 192)  576         conv2d_161[0][0]                 \n",
            "__________________________________________________________________________________________________\n",
            "activation_156 (Activation)     (None, 17, 17, 192)  0           batch_normalization_156[0][0]    \n",
            "__________________________________________________________________________________________________\n",
            "activation_161 (Activation)     (None, 17, 17, 192)  0           batch_normalization_161[0][0]    \n",
            "__________________________________________________________________________________________________\n",
            "conv2d_157 (Conv2D)             (None, 17, 17, 192)  258048      activation_156[0][0]             \n",
            "__________________________________________________________________________________________________\n",
            "conv2d_162 (Conv2D)             (None, 17, 17, 192)  258048      activation_161[0][0]             \n",
            "__________________________________________________________________________________________________\n",
            "batch_normalization_157 (BatchN (None, 17, 17, 192)  576         conv2d_157[0][0]                 \n",
            "__________________________________________________________________________________________________\n",
            "batch_normalization_162 (BatchN (None, 17, 17, 192)  576         conv2d_162[0][0]                 \n",
            "__________________________________________________________________________________________________\n",
            "activation_157 (Activation)     (None, 17, 17, 192)  0           batch_normalization_157[0][0]    \n",
            "__________________________________________________________________________________________________\n",
            "activation_162 (Activation)     (None, 17, 17, 192)  0           batch_normalization_162[0][0]    \n",
            "__________________________________________________________________________________________________\n",
            "average_pooling2d_17 (AveragePo (None, 17, 17, 768)  0           mixed6[0][0]                     \n",
            "__________________________________________________________________________________________________\n",
            "conv2d_155 (Conv2D)             (None, 17, 17, 192)  147456      mixed6[0][0]                     \n",
            "__________________________________________________________________________________________________\n",
            "conv2d_158 (Conv2D)             (None, 17, 17, 192)  258048      activation_157[0][0]             \n",
            "__________________________________________________________________________________________________\n",
            "conv2d_163 (Conv2D)             (None, 17, 17, 192)  258048      activation_162[0][0]             \n",
            "__________________________________________________________________________________________________\n",
            "conv2d_164 (Conv2D)             (None, 17, 17, 192)  147456      average_pooling2d_17[0][0]       \n",
            "__________________________________________________________________________________________________\n",
            "batch_normalization_155 (BatchN (None, 17, 17, 192)  576         conv2d_155[0][0]                 \n",
            "__________________________________________________________________________________________________\n",
            "batch_normalization_158 (BatchN (None, 17, 17, 192)  576         conv2d_158[0][0]                 \n",
            "__________________________________________________________________________________________________\n",
            "batch_normalization_163 (BatchN (None, 17, 17, 192)  576         conv2d_163[0][0]                 \n",
            "__________________________________________________________________________________________________\n",
            "batch_normalization_164 (BatchN (None, 17, 17, 192)  576         conv2d_164[0][0]                 \n",
            "__________________________________________________________________________________________________\n",
            "activation_155 (Activation)     (None, 17, 17, 192)  0           batch_normalization_155[0][0]    \n",
            "__________________________________________________________________________________________________\n",
            "activation_158 (Activation)     (None, 17, 17, 192)  0           batch_normalization_158[0][0]    \n",
            "__________________________________________________________________________________________________\n",
            "activation_163 (Activation)     (None, 17, 17, 192)  0           batch_normalization_163[0][0]    \n",
            "__________________________________________________________________________________________________\n",
            "activation_164 (Activation)     (None, 17, 17, 192)  0           batch_normalization_164[0][0]    \n",
            "__________________________________________________________________________________________________\n",
            "mixed7 (Concatenate)            (None, 17, 17, 768)  0           activation_155[0][0]             \n",
            "                                                                 activation_158[0][0]             \n",
            "                                                                 activation_163[0][0]             \n",
            "                                                                 activation_164[0][0]             \n",
            "__________________________________________________________________________________________________\n",
            "conv2d_167 (Conv2D)             (None, 17, 17, 192)  147456      mixed7[0][0]                     \n",
            "__________________________________________________________________________________________________\n",
            "batch_normalization_167 (BatchN (None, 17, 17, 192)  576         conv2d_167[0][0]                 \n",
            "__________________________________________________________________________________________________\n",
            "activation_167 (Activation)     (None, 17, 17, 192)  0           batch_normalization_167[0][0]    \n",
            "__________________________________________________________________________________________________\n",
            "conv2d_168 (Conv2D)             (None, 17, 17, 192)  258048      activation_167[0][0]             \n",
            "__________________________________________________________________________________________________\n",
            "batch_normalization_168 (BatchN (None, 17, 17, 192)  576         conv2d_168[0][0]                 \n",
            "__________________________________________________________________________________________________\n",
            "activation_168 (Activation)     (None, 17, 17, 192)  0           batch_normalization_168[0][0]    \n",
            "__________________________________________________________________________________________________\n",
            "conv2d_165 (Conv2D)             (None, 17, 17, 192)  147456      mixed7[0][0]                     \n",
            "__________________________________________________________________________________________________\n",
            "conv2d_169 (Conv2D)             (None, 17, 17, 192)  258048      activation_168[0][0]             \n",
            "__________________________________________________________________________________________________\n",
            "batch_normalization_165 (BatchN (None, 17, 17, 192)  576         conv2d_165[0][0]                 \n",
            "__________________________________________________________________________________________________\n",
            "batch_normalization_169 (BatchN (None, 17, 17, 192)  576         conv2d_169[0][0]                 \n",
            "__________________________________________________________________________________________________\n",
            "activation_165 (Activation)     (None, 17, 17, 192)  0           batch_normalization_165[0][0]    \n",
            "__________________________________________________________________________________________________\n",
            "activation_169 (Activation)     (None, 17, 17, 192)  0           batch_normalization_169[0][0]    \n",
            "__________________________________________________________________________________________________\n",
            "conv2d_166 (Conv2D)             (None, 8, 8, 320)    552960      activation_165[0][0]             \n",
            "__________________________________________________________________________________________________\n",
            "conv2d_170 (Conv2D)             (None, 8, 8, 192)    331776      activation_169[0][0]             \n",
            "__________________________________________________________________________________________________\n",
            "batch_normalization_166 (BatchN (None, 8, 8, 320)    960         conv2d_166[0][0]                 \n",
            "__________________________________________________________________________________________________\n",
            "batch_normalization_170 (BatchN (None, 8, 8, 192)    576         conv2d_170[0][0]                 \n",
            "__________________________________________________________________________________________________\n",
            "activation_166 (Activation)     (None, 8, 8, 320)    0           batch_normalization_166[0][0]    \n",
            "__________________________________________________________________________________________________\n",
            "activation_170 (Activation)     (None, 8, 8, 192)    0           batch_normalization_170[0][0]    \n",
            "__________________________________________________________________________________________________\n",
            "max_pooling2d_8 (MaxPooling2D)  (None, 8, 8, 768)    0           mixed7[0][0]                     \n",
            "__________________________________________________________________________________________________\n",
            "mixed8 (Concatenate)            (None, 8, 8, 1280)   0           activation_166[0][0]             \n",
            "                                                                 activation_170[0][0]             \n",
            "                                                                 max_pooling2d_8[0][0]            \n",
            "__________________________________________________________________________________________________\n",
            "conv2d_175 (Conv2D)             (None, 8, 8, 448)    573440      mixed8[0][0]                     \n",
            "__________________________________________________________________________________________________\n",
            "batch_normalization_175 (BatchN (None, 8, 8, 448)    1344        conv2d_175[0][0]                 \n",
            "__________________________________________________________________________________________________\n",
            "activation_175 (Activation)     (None, 8, 8, 448)    0           batch_normalization_175[0][0]    \n",
            "__________________________________________________________________________________________________\n",
            "conv2d_172 (Conv2D)             (None, 8, 8, 384)    491520      mixed8[0][0]                     \n",
            "__________________________________________________________________________________________________\n",
            "conv2d_176 (Conv2D)             (None, 8, 8, 384)    1548288     activation_175[0][0]             \n",
            "__________________________________________________________________________________________________\n",
            "batch_normalization_172 (BatchN (None, 8, 8, 384)    1152        conv2d_172[0][0]                 \n",
            "__________________________________________________________________________________________________\n",
            "batch_normalization_176 (BatchN (None, 8, 8, 384)    1152        conv2d_176[0][0]                 \n",
            "__________________________________________________________________________________________________\n",
            "activation_172 (Activation)     (None, 8, 8, 384)    0           batch_normalization_172[0][0]    \n",
            "__________________________________________________________________________________________________\n",
            "activation_176 (Activation)     (None, 8, 8, 384)    0           batch_normalization_176[0][0]    \n",
            "__________________________________________________________________________________________________\n",
            "conv2d_173 (Conv2D)             (None, 8, 8, 384)    442368      activation_172[0][0]             \n",
            "__________________________________________________________________________________________________\n",
            "conv2d_174 (Conv2D)             (None, 8, 8, 384)    442368      activation_172[0][0]             \n",
            "__________________________________________________________________________________________________\n",
            "conv2d_177 (Conv2D)             (None, 8, 8, 384)    442368      activation_176[0][0]             \n",
            "__________________________________________________________________________________________________\n",
            "conv2d_178 (Conv2D)             (None, 8, 8, 384)    442368      activation_176[0][0]             \n",
            "__________________________________________________________________________________________________\n",
            "average_pooling2d_18 (AveragePo (None, 8, 8, 1280)   0           mixed8[0][0]                     \n",
            "__________________________________________________________________________________________________\n",
            "conv2d_171 (Conv2D)             (None, 8, 8, 320)    409600      mixed8[0][0]                     \n",
            "__________________________________________________________________________________________________\n",
            "batch_normalization_173 (BatchN (None, 8, 8, 384)    1152        conv2d_173[0][0]                 \n",
            "__________________________________________________________________________________________________\n",
            "batch_normalization_174 (BatchN (None, 8, 8, 384)    1152        conv2d_174[0][0]                 \n",
            "__________________________________________________________________________________________________\n",
            "batch_normalization_177 (BatchN (None, 8, 8, 384)    1152        conv2d_177[0][0]                 \n",
            "__________________________________________________________________________________________________\n",
            "batch_normalization_178 (BatchN (None, 8, 8, 384)    1152        conv2d_178[0][0]                 \n",
            "__________________________________________________________________________________________________\n",
            "conv2d_179 (Conv2D)             (None, 8, 8, 192)    245760      average_pooling2d_18[0][0]       \n",
            "__________________________________________________________________________________________________\n",
            "batch_normalization_171 (BatchN (None, 8, 8, 320)    960         conv2d_171[0][0]                 \n",
            "__________________________________________________________________________________________________\n",
            "activation_173 (Activation)     (None, 8, 8, 384)    0           batch_normalization_173[0][0]    \n",
            "__________________________________________________________________________________________________\n",
            "activation_174 (Activation)     (None, 8, 8, 384)    0           batch_normalization_174[0][0]    \n",
            "__________________________________________________________________________________________________\n",
            "activation_177 (Activation)     (None, 8, 8, 384)    0           batch_normalization_177[0][0]    \n",
            "__________________________________________________________________________________________________\n",
            "activation_178 (Activation)     (None, 8, 8, 384)    0           batch_normalization_178[0][0]    \n",
            "__________________________________________________________________________________________________\n",
            "batch_normalization_179 (BatchN (None, 8, 8, 192)    576         conv2d_179[0][0]                 \n",
            "__________________________________________________________________________________________________\n",
            "activation_171 (Activation)     (None, 8, 8, 320)    0           batch_normalization_171[0][0]    \n",
            "__________________________________________________________________________________________________\n",
            "mixed9_0 (Concatenate)          (None, 8, 8, 768)    0           activation_173[0][0]             \n",
            "                                                                 activation_174[0][0]             \n",
            "__________________________________________________________________________________________________\n",
            "concatenate_4 (Concatenate)     (None, 8, 8, 768)    0           activation_177[0][0]             \n",
            "                                                                 activation_178[0][0]             \n",
            "__________________________________________________________________________________________________\n",
            "activation_179 (Activation)     (None, 8, 8, 192)    0           batch_normalization_179[0][0]    \n",
            "__________________________________________________________________________________________________\n",
            "mixed9 (Concatenate)            (None, 8, 8, 2048)   0           activation_171[0][0]             \n",
            "                                                                 mixed9_0[0][0]                   \n",
            "                                                                 concatenate_4[0][0]              \n",
            "                                                                 activation_179[0][0]             \n",
            "__________________________________________________________________________________________________\n",
            "conv2d_184 (Conv2D)             (None, 8, 8, 448)    917504      mixed9[0][0]                     \n",
            "__________________________________________________________________________________________________\n",
            "batch_normalization_184 (BatchN (None, 8, 8, 448)    1344        conv2d_184[0][0]                 \n",
            "__________________________________________________________________________________________________\n",
            "activation_184 (Activation)     (None, 8, 8, 448)    0           batch_normalization_184[0][0]    \n",
            "__________________________________________________________________________________________________\n",
            "conv2d_181 (Conv2D)             (None, 8, 8, 384)    786432      mixed9[0][0]                     \n",
            "__________________________________________________________________________________________________\n",
            "conv2d_185 (Conv2D)             (None, 8, 8, 384)    1548288     activation_184[0][0]             \n",
            "__________________________________________________________________________________________________\n",
            "batch_normalization_181 (BatchN (None, 8, 8, 384)    1152        conv2d_181[0][0]                 \n",
            "__________________________________________________________________________________________________\n",
            "batch_normalization_185 (BatchN (None, 8, 8, 384)    1152        conv2d_185[0][0]                 \n",
            "__________________________________________________________________________________________________\n",
            "activation_181 (Activation)     (None, 8, 8, 384)    0           batch_normalization_181[0][0]    \n",
            "__________________________________________________________________________________________________\n",
            "activation_185 (Activation)     (None, 8, 8, 384)    0           batch_normalization_185[0][0]    \n",
            "__________________________________________________________________________________________________\n",
            "conv2d_182 (Conv2D)             (None, 8, 8, 384)    442368      activation_181[0][0]             \n",
            "__________________________________________________________________________________________________\n",
            "conv2d_183 (Conv2D)             (None, 8, 8, 384)    442368      activation_181[0][0]             \n",
            "__________________________________________________________________________________________________\n",
            "conv2d_186 (Conv2D)             (None, 8, 8, 384)    442368      activation_185[0][0]             \n",
            "__________________________________________________________________________________________________\n",
            "conv2d_187 (Conv2D)             (None, 8, 8, 384)    442368      activation_185[0][0]             \n",
            "__________________________________________________________________________________________________\n",
            "average_pooling2d_19 (AveragePo (None, 8, 8, 2048)   0           mixed9[0][0]                     \n",
            "__________________________________________________________________________________________________\n",
            "conv2d_180 (Conv2D)             (None, 8, 8, 320)    655360      mixed9[0][0]                     \n",
            "__________________________________________________________________________________________________\n",
            "batch_normalization_182 (BatchN (None, 8, 8, 384)    1152        conv2d_182[0][0]                 \n",
            "__________________________________________________________________________________________________\n",
            "batch_normalization_183 (BatchN (None, 8, 8, 384)    1152        conv2d_183[0][0]                 \n",
            "__________________________________________________________________________________________________\n",
            "batch_normalization_186 (BatchN (None, 8, 8, 384)    1152        conv2d_186[0][0]                 \n",
            "__________________________________________________________________________________________________\n",
            "batch_normalization_187 (BatchN (None, 8, 8, 384)    1152        conv2d_187[0][0]                 \n",
            "__________________________________________________________________________________________________\n",
            "conv2d_188 (Conv2D)             (None, 8, 8, 192)    393216      average_pooling2d_19[0][0]       \n",
            "__________________________________________________________________________________________________\n",
            "batch_normalization_180 (BatchN (None, 8, 8, 320)    960         conv2d_180[0][0]                 \n",
            "__________________________________________________________________________________________________\n",
            "activation_182 (Activation)     (None, 8, 8, 384)    0           batch_normalization_182[0][0]    \n",
            "__________________________________________________________________________________________________\n",
            "activation_183 (Activation)     (None, 8, 8, 384)    0           batch_normalization_183[0][0]    \n",
            "__________________________________________________________________________________________________\n",
            "activation_186 (Activation)     (None, 8, 8, 384)    0           batch_normalization_186[0][0]    \n",
            "__________________________________________________________________________________________________\n",
            "activation_187 (Activation)     (None, 8, 8, 384)    0           batch_normalization_187[0][0]    \n",
            "__________________________________________________________________________________________________\n",
            "batch_normalization_188 (BatchN (None, 8, 8, 192)    576         conv2d_188[0][0]                 \n",
            "__________________________________________________________________________________________________\n",
            "activation_180 (Activation)     (None, 8, 8, 320)    0           batch_normalization_180[0][0]    \n",
            "__________________________________________________________________________________________________\n",
            "mixed9_1 (Concatenate)          (None, 8, 8, 768)    0           activation_182[0][0]             \n",
            "                                                                 activation_183[0][0]             \n",
            "__________________________________________________________________________________________________\n",
            "concatenate_5 (Concatenate)     (None, 8, 8, 768)    0           activation_186[0][0]             \n",
            "                                                                 activation_187[0][0]             \n",
            "__________________________________________________________________________________________________\n",
            "activation_188 (Activation)     (None, 8, 8, 192)    0           batch_normalization_188[0][0]    \n",
            "__________________________________________________________________________________________________\n",
            "mixed10 (Concatenate)           (None, 8, 8, 2048)   0           activation_180[0][0]             \n",
            "                                                                 mixed9_1[0][0]                   \n",
            "                                                                 concatenate_5[0][0]              \n",
            "                                                                 activation_188[0][0]             \n",
            "__________________________________________________________________________________________________\n",
            "average_pooling2d_20 (AveragePo (None, 4, 4, 2048)   0           mixed10[0][0]                    \n",
            "__________________________________________________________________________________________________\n",
            "input_gender (InputLayer)       (None, 1)            0                                            \n",
            "__________________________________________________________________________________________________\n",
            "flatten_2 (Flatten)             (None, 32768)        0           average_pooling2d_20[0][0]       \n",
            "__________________________________________________________________________________________________\n",
            "dense_5 (Dense)                 (None, 32)           64          input_gender[0][0]               \n",
            "__________________________________________________________________________________________________\n",
            "concatenate_6 (Concatenate)     (None, 32800)        0           flatten_2[0][0]                  \n",
            "                                                                 dense_5[0][0]                    \n",
            "__________________________________________________________________________________________________\n",
            "dense_6 (Dense)                 (None, 1000)         32801000    concatenate_6[0][0]              \n",
            "__________________________________________________________________________________________________\n",
            "dense_7 (Dense)                 (None, 1000)         1001000     dense_6[0][0]                    \n",
            "__________________________________________________________________________________________________\n",
            "dense_8 (Dense)                 (None, 1)            1001        dense_7[0][0]                    \n",
            "==================================================================================================\n",
            "Total params: 55,605,849\n",
            "Trainable params: 55,571,417\n",
            "Non-trainable params: 34,432\n",
            "__________________________________________________________________________________________________\n"
          ],
          "name": "stdout"
        }
      ]
    },
    {
      "cell_type": "code",
      "metadata": {
        "id": "fepCWjHyo24b",
        "colab_type": "code",
        "colab": {}
      },
      "source": [
        "filepath='/gdrive/My Drive/incpCb.h5'\n",
        "checkpoints=ModelCheckpoint(filepath,monitor='loss',verbose=1,save_best_only=True,mode='min')\n",
        "#callbacks_list=[checkpoints]\n",
        "\n",
        "#checkpoint = ModelCheckpoint(weight_path, monitor='val_loss', verbose=1,save_best_only=True, mode='min', save_weights_only=True)\n",
        "\n",
        "reduceLROnPlat = ReduceLROnPlateau(monitor='val_loss', factor=0.8,patience=10, verbose=1, mode='auto', min_delta=0.0001, cooldown=5,min_lr=0.00006)\n",
        "early = EarlyStopping(monitor=\"val_loss\", mode=\"min\", patience=8)\n",
        "callbacks_list = [ early, reduceLROnPlat,checkpoints]"
      ],
      "execution_count": 0,
      "outputs": []
    },
    {
      "cell_type": "code",
      "metadata": {
        "id": "xK3naD1tdJrE",
        "colab_type": "code",
        "colab": {}
      },
      "source": [
        ""
      ],
      "execution_count": 0,
      "outputs": []
    },
    {
      "cell_type": "code",
      "metadata": {
        "colab_type": "code",
        "id": "j29rppcprzsW",
        "outputId": "615239e1-b1bf-4020-bd1c-e48bce7a2897",
        "colab": {
          "base_uri": "https://localhost:8080/",
          "height": 855
        }
      },
      "source": [
        "model_history =model.fit_generator(generator=train_flow,\n",
        "                                    steps_per_epoch=STEP_SIZE_TRAIN, validation_data=valid_flow,\n",
        "                                    validation_steps=STEP_SIZE_VALID, epochs=40,callbacks=callbacks_list)\n",
        "model.save('/gdrive/My Drive/ep40(incp).h5')"
      ],
      "execution_count": 27,
      "outputs": [
        {
          "output_type": "stream",
          "text": [
            "WARNING:tensorflow:From /usr/local/lib/python3.6/dist-packages/keras/backend/tensorflow_backend.py:1033: The name tf.assign_add is deprecated. Please use tf.compat.v1.assign_add instead.\n",
            "\n",
            "WARNING:tensorflow:From /usr/local/lib/python3.6/dist-packages/keras/backend/tensorflow_backend.py:1020: The name tf.assign is deprecated. Please use tf.compat.v1.assign instead.\n",
            "\n",
            "Epoch 1/40\n",
            "Found 2364 validated image filenames.\n",
            "Found 2364 validated image filenames.\n",
            "Found 10000 validated image filenames.\n",
            "Found 10000 validated image filenames.\n"
          ],
          "name": "stdout"
        },
        {
          "output_type": "stream",
          "text": [
            "/usr/local/lib/python3.6/dist-packages/keras/utils/data_utils.py:709: UserWarning: An input could not be retrieved. It could be because a worker has died.We do not have any information on the lost sample.\n",
            "  UserWarning)\n"
          ],
          "name": "stderr"
        },
        {
          "output_type": "stream",
          "text": [
            "312/312 [==============================] - 3175s 10s/step - loss: 1.2900 - mean_absolute_error: 1.2900 - val_loss: 0.4349 - val_mean_absolute_error: 0.4349\n",
            "\n",
            "Epoch 00001: loss improved from inf to 1.29077, saving model to /gdrive/My Drive/incpCb.h5\n",
            "Epoch 2/40\n",
            "312/312 [==============================] - 1185s 4s/step - loss: 0.5287 - mean_absolute_error: 0.5287 - val_loss: 0.7125 - val_mean_absolute_error: 0.7125\n",
            "\n",
            "Epoch 00002: loss improved from 1.29077 to 0.52866, saving model to /gdrive/My Drive/incpCb.h5\n",
            "Epoch 3/40\n",
            "312/312 [==============================] - 1151s 4s/step - loss: 0.4930 - mean_absolute_error: 0.4930 - val_loss: 0.5138 - val_mean_absolute_error: 0.5138\n",
            "\n",
            "Epoch 00003: loss improved from 0.52866 to 0.49287, saving model to /gdrive/My Drive/incpCb.h5\n",
            "Epoch 4/40\n",
            "312/312 [==============================] - 1118s 4s/step - loss: 0.5671 - mean_absolute_error: 0.5671 - val_loss: 0.5464 - val_mean_absolute_error: 0.5464\n",
            "\n",
            "Epoch 00004: loss did not improve from 0.49287\n",
            "Epoch 5/40\n",
            "312/312 [==============================] - 1119s 4s/step - loss: 0.4788 - mean_absolute_error: 0.4788 - val_loss: 1.3001 - val_mean_absolute_error: 1.3001\n",
            "\n",
            "Epoch 00005: loss improved from 0.49287 to 0.47853, saving model to /gdrive/My Drive/incpCb.h5\n",
            "Epoch 6/40\n",
            "312/312 [==============================] - 1118s 4s/step - loss: 0.4117 - mean_absolute_error: 0.4117 - val_loss: 25.2816 - val_mean_absolute_error: 25.2816\n",
            "\n",
            "Epoch 00006: loss improved from 0.47853 to 0.41170, saving model to /gdrive/My Drive/incpCb.h5\n",
            "Epoch 7/40\n",
            "312/312 [==============================] - 1115s 4s/step - loss: 0.3828 - mean_absolute_error: 0.3828 - val_loss: 0.4804 - val_mean_absolute_error: 0.4804\n",
            "\n",
            "Epoch 00007: loss improved from 0.41170 to 0.38238, saving model to /gdrive/My Drive/incpCb.h5\n",
            "Epoch 8/40\n",
            "312/312 [==============================] - 1120s 4s/step - loss: 0.3302 - mean_absolute_error: 0.3302 - val_loss: 0.5335 - val_mean_absolute_error: 0.5335\n",
            "\n",
            "Epoch 00008: loss improved from 0.38238 to 0.33001, saving model to /gdrive/My Drive/incpCb.h5\n",
            "Epoch 9/40\n",
            "312/312 [==============================] - 1130s 4s/step - loss: 0.2975 - mean_absolute_error: 0.2975 - val_loss: 0.5577 - val_mean_absolute_error: 0.5577\n",
            "\n",
            "Epoch 00009: loss improved from 0.33001 to 0.29748, saving model to /gdrive/My Drive/incpCb.h5\n"
          ],
          "name": "stdout"
        }
      ]
    },
    {
      "cell_type": "code",
      "metadata": {
        "id": "waFTjRD6ncDI",
        "colab_type": "code",
        "colab": {}
      },
      "source": [
        "new_model.save('/gdrive/My Drive/75+10(reg).h5')"
      ],
      "execution_count": 0,
      "outputs": []
    },
    {
      "cell_type": "code",
      "metadata": {
        "id": "g_4xQ_nc9vbW",
        "colab_type": "code",
        "colab": {
          "base_uri": "https://localhost:8080/",
          "height": 90
        },
        "outputId": "a81d0a7a-3d1f-4b1a-9ee8-ffcdd9289f11"
      },
      "source": [
        "from tensorflow.keras.models import load_model\n",
        "import tensorflow as tf\n",
        "\n",
        "new_model=load_model(\"/gdrive/My Drive/ep40(incp).h5\", custom_objects = { \"tf\": tf })"
      ],
      "execution_count": 50,
      "outputs": [
        {
          "output_type": "stream",
          "text": [
            "WARNING:tensorflow:From /usr/local/lib/python3.6/dist-packages/tensorflow_core/python/ops/resource_variable_ops.py:1630: calling BaseResourceVariable.__init__ (from tensorflow.python.ops.resource_variable_ops) with constraint is deprecated and will be removed in a future version.\n",
            "Instructions for updating:\n",
            "If using Keras pass *_constraint arguments to layers.\n"
          ],
          "name": "stdout"
        }
      ]
    },
    {
      "cell_type": "code",
      "metadata": {
        "id": "LYjwrSVypbrr",
        "colab_type": "code",
        "outputId": "c0b87141-d2a5-40a8-a4d0-b4b7217e52d0",
        "colab": {
          "base_uri": "https://localhost:8080/",
          "height": 268
        }
      },
      "source": [
        "from tensorflow.keras.models import load_model\n",
        "import tensorflow as tf\n",
        "\n",
        "new_model=load_model(\"/gdrive/My Drive/epoch75.h5\", custom_objects = { \"tf\": tf })\n",
        "'''\n",
        "checkpoints=ModelCheckpoint(filepath,monitor='loss',verbose=1,save_best_only=True,mode='min')\n",
        "#callbacks_list=[checkpoints]\n",
        "\n",
        "\n",
        "#checkpoint = ModelCheckpoint(weight_path, monitor='val_loss', verbose=1,save_best_only=True, mode='min', save_weights_only=True)\n",
        "\n",
        "reduceLROnPlat = ReduceLROnPlateau(monitor='val_loss', factor=0.8,patience=10, verbose=1, mode='auto', min_delta=0.0001, cooldown=5,min_lr=0.00006)\n",
        "early = EarlyStopping(monitor=\"val_loss\", mode=\"min\", patience=8)\n",
        "callbacks_list = [checkpoints, early, reduceLROnPlat]\n",
        "'''"
      ],
      "execution_count": 0,
      "outputs": [
        {
          "output_type": "stream",
          "text": [
            "WARNING:tensorflow:From /usr/local/lib/python3.6/dist-packages/tensorflow_core/python/ops/init_ops.py:97: calling VarianceScaling.__init__ (from tensorflow.python.ops.init_ops) with dtype is deprecated and will be removed in a future version.\n",
            "Instructions for updating:\n",
            "Call initializer instance with the dtype argument instead of passing it to the constructor\n",
            "WARNING:tensorflow:From /usr/local/lib/python3.6/dist-packages/tensorflow_core/python/ops/init_ops.py:97: calling Zeros.__init__ (from tensorflow.python.ops.init_ops) with dtype is deprecated and will be removed in a future version.\n",
            "Instructions for updating:\n",
            "Call initializer instance with the dtype argument instead of passing it to the constructor\n",
            "WARNING:tensorflow:From /usr/local/lib/python3.6/dist-packages/tensorflow_core/python/ops/resource_variable_ops.py:1630: calling BaseResourceVariable.__init__ (from tensorflow.python.ops.resource_variable_ops) with constraint is deprecated and will be removed in a future version.\n",
            "Instructions for updating:\n",
            "If using Keras pass *_constraint arguments to layers.\n",
            "WARNING:tensorflow:From /usr/local/lib/python3.6/dist-packages/tensorflow_core/python/ops/init_ops.py:97: calling Ones.__init__ (from tensorflow.python.ops.init_ops) with dtype is deprecated and will be removed in a future version.\n",
            "Instructions for updating:\n",
            "Call initializer instance with the dtype argument instead of passing it to the constructor\n"
          ],
          "name": "stdout"
        },
        {
          "output_type": "execute_result",
          "data": {
            "text/plain": [
              "'\\ncheckpoints=ModelCheckpoint(filepath,monitor=\\'loss\\',verbose=1,save_best_only=True,mode=\\'min\\')\\n#callbacks_list=[checkpoints]\\n\\n\\n#checkpoint = ModelCheckpoint(weight_path, monitor=\\'val_loss\\', verbose=1,save_best_only=True, mode=\\'min\\', save_weights_only=True)\\n\\nreduceLROnPlat = ReduceLROnPlateau(monitor=\\'val_loss\\', factor=0.8,patience=10, verbose=1, mode=\\'auto\\', min_delta=0.0001, cooldown=5,min_lr=0.00006)\\nearly = EarlyStopping(monitor=\"val_loss\", mode=\"min\", patience=8)\\ncallbacks_list = [checkpoints, early, reduceLROnPlat]\\n'"
            ]
          },
          "metadata": {
            "tags": []
          },
          "execution_count": 25
        }
      ]
    },
    {
      "cell_type": "code",
      "metadata": {
        "id": "jGqRgqg-rLMr",
        "colab_type": "code",
        "outputId": "96fce4e2-bb14-440f-94ed-46e376ed378c",
        "colab": {
          "base_uri": "https://localhost:8080/",
          "height": 1000
        }
      },
      "source": [
        "new_history=new_model.fit_generator(generator=train_flow,\n",
        "                                    steps_per_epoch=STEP_SIZE_TRAIN, validation_data=valid_flow,\n",
        "                                    validation_steps=STEP_SIZE_VALID, epochs=17)\n",
        "new_model.save('/gdrive/My Drive/ep75+17.h5')"
      ],
      "execution_count": 0,
      "outputs": [
        {
          "output_type": "stream",
          "text": [
            "Epoch 1/17\n",
            "Found 10000 validated image filenames.\n",
            "Found 10000 validated image filenames.\n",
            "311/312 [============================>.] - ETA: 5s - loss: 0.1089 Epoch 1/17\n",
            "Found 2364 validated image filenames.\n",
            "Found 2364 validated image filenames.\n",
            "312/312 [==============================] - 1919s 6s/step - loss: 0.1088 - val_loss: 0.1106\n",
            "Epoch 2/17\n",
            " 90/312 [=======>......................] - ETA: 6:59 - loss: 0.1068"
          ],
          "name": "stdout"
        },
        {
          "output_type": "stream",
          "text": [
            "ERROR:root:Internal Python error in the inspect module.\n",
            "Below is the traceback from this internal error.\n",
            "\n"
          ],
          "name": "stderr"
        },
        {
          "output_type": "stream",
          "text": [
            "Traceback (most recent call last):\n",
            "  File \"/usr/local/lib/python3.6/dist-packages/IPython/core/interactiveshell.py\", line 2882, in run_code\n",
            "    exec(code_obj, self.user_global_ns, self.user_ns)\n",
            "  File \"<ipython-input-88-fc192ea15f20>\", line 3, in <module>\n",
            "    validation_steps=STEP_SIZE_VALID, epochs=17)\n",
            "  File \"/usr/local/lib/python3.6/dist-packages/tensorflow_core/python/keras/engine/training.py\", line 1296, in fit_generator\n",
            "    steps_name='steps_per_epoch')\n",
            "  File \"/usr/local/lib/python3.6/dist-packages/tensorflow_core/python/keras/engine/training_generator.py\", line 221, in model_iteration\n",
            "    batch_data = _get_next_batch(generator)\n",
            "  File \"/usr/local/lib/python3.6/dist-packages/tensorflow_core/python/keras/engine/training_generator.py\", line 363, in _get_next_batch\n",
            "    generator_output = next(generator)\n",
            "  File \"/usr/local/lib/python3.6/dist-packages/tensorflow_core/python/keras/utils/data_utils.py\", line 922, in get\n",
            "    six.reraise(*sys.exc_info())\n",
            "  File \"/usr/local/lib/python3.6/dist-packages/six.py\", line 693, in reraise\n",
            "    raise value\n",
            "  File \"/usr/local/lib/python3.6/dist-packages/tensorflow_core/python/keras/utils/data_utils.py\", line 898, in get\n",
            "    inputs = self.queue.get(block=True).get()\n",
            "  File \"/usr/lib/python3.6/multiprocessing/pool.py\", line 644, in get\n",
            "    raise self._value\n",
            "  File \"/usr/lib/python3.6/multiprocessing/pool.py\", line 119, in worker\n",
            "    result = (True, func(*args, **kwds))\n",
            "  File \"/usr/local/lib/python3.6/dist-packages/tensorflow_core/python/keras/utils/data_utils.py\", line 832, in next_sample\n",
            "    return six.next(_SHARED_SEQUENCES[uid])\n",
            "  File \"<ipython-input-81-767a122f8701>\", line 15, in gen_2inputs\n",
            "    X1i = gen_img.next()\n",
            "  File \"/usr/local/lib/python3.6/dist-packages/keras_preprocessing/image/iterator.py\", line 116, in next\n",
            "    return self._get_batches_of_transformed_samples(index_array)\n",
            "  File \"/usr/local/lib/python3.6/dist-packages/keras_preprocessing/image/iterator.py\", line 230, in _get_batches_of_transformed_samples\n",
            "    interpolation=self.interpolation)\n",
            "  File \"/usr/local/lib/python3.6/dist-packages/keras_preprocessing/image/utils.py\", line 110, in load_img\n",
            "    img = pil_image.open(path)\n",
            "  File \"/usr/local/lib/python3.6/dist-packages/PIL/Image.py\", line 2766, in open\n",
            "    fp = builtins.open(filename, \"rb\")\n",
            "FileNotFoundError: [Errno 2] No such file or directory: '/gdrive/My Drive/boneage-training-dataset/14637.png'\n",
            "\n",
            "During handling of the above exception, another exception occurred:\n",
            "\n",
            "Traceback (most recent call last):\n",
            "  File \"/usr/local/lib/python3.6/dist-packages/IPython/core/interactiveshell.py\", line 1823, in showtraceback\n",
            "    stb = value._render_traceback_()\n",
            "AttributeError: 'FileNotFoundError' object has no attribute '_render_traceback_'\n",
            "\n",
            "During handling of the above exception, another exception occurred:\n",
            "\n",
            "Traceback (most recent call last):\n",
            "  File \"/usr/local/lib/python3.6/dist-packages/IPython/core/ultratb.py\", line 1132, in get_records\n",
            "    return _fixed_getinnerframes(etb, number_of_lines_of_context, tb_offset)\n",
            "  File \"/usr/local/lib/python3.6/dist-packages/IPython/core/ultratb.py\", line 313, in wrapped\n",
            "    return f(*args, **kwargs)\n",
            "  File \"/usr/local/lib/python3.6/dist-packages/IPython/core/ultratb.py\", line 358, in _fixed_getinnerframes\n",
            "    records = fix_frame_records_filenames(inspect.getinnerframes(etb, context))\n",
            "  File \"/usr/lib/python3.6/inspect.py\", line 1490, in getinnerframes\n",
            "    frameinfo = (tb.tb_frame,) + getframeinfo(tb, context)\n",
            "  File \"/usr/lib/python3.6/inspect.py\", line 1448, in getframeinfo\n",
            "    filename = getsourcefile(frame) or getfile(frame)\n",
            "  File \"/usr/lib/python3.6/inspect.py\", line 696, in getsourcefile\n",
            "    if getattr(getmodule(object, filename), '__loader__', None) is not None:\n",
            "  File \"/usr/lib/python3.6/inspect.py\", line 725, in getmodule\n",
            "    file = getabsfile(object, _filename)\n",
            "  File \"/usr/lib/python3.6/inspect.py\", line 709, in getabsfile\n",
            "    return os.path.normcase(os.path.abspath(_filename))\n",
            "  File \"/usr/lib/python3.6/posixpath.py\", line 383, in abspath\n",
            "    cwd = os.getcwd()\n",
            "OSError: [Errno 107] Transport endpoint is not connected\n"
          ],
          "name": "stdout"
        },
        {
          "output_type": "error",
          "ename": "FileNotFoundError",
          "evalue": "ignored",
          "traceback": [
            "\u001b[0;31m---------------------------------------------------------------------------\u001b[0m"
          ]
        }
      ]
    },
    {
      "cell_type": "code",
      "metadata": {
        "id": "1y3LzdgBqXER",
        "colab_type": "code",
        "colab": {}
      },
      "source": [
        "\n",
        "k.save('/gdrive/My Drive/ep75+7.h5')"
      ],
      "execution_count": 0,
      "outputs": []
    },
    {
      "cell_type": "code",
      "metadata": {
        "id": "6ijvKx-wNxjp",
        "colab_type": "code",
        "colab": {}
      },
      "source": [
        "new_model.save('/gdrive/My Drive/newmod.h5')"
      ],
      "execution_count": 0,
      "outputs": []
    },
    {
      "cell_type": "code",
      "metadata": {
        "id": "bUdEnqKwOJ-w",
        "colab_type": "code",
        "colab": {}
      },
      "source": [
        "new_model.save('/gdrive/My Drive/epoch75.h5')"
      ],
      "execution_count": 0,
      "outputs": []
    },
    {
      "cell_type": "code",
      "metadata": {
        "colab_type": "code",
        "id": "nlgxTRrKrzsa",
        "colab": {}
      },
      "source": [
        "import tensorflow as tf\n",
        "\n",
        "from tensorflow.keras.models import load_model\n",
        "md=load_model(\"/gdrive/My Drive/ep75+14.h5\", custom_objects = { \"tf\": tf })"
      ],
      "execution_count": 0,
      "outputs": []
    },
    {
      "cell_type": "code",
      "metadata": {
        "id": "DUW_rS3ByJ88",
        "colab_type": "code",
        "outputId": "b35b4377-f970-4872-88ca-b8d0859af952",
        "colab": {
          "base_uri": "https://localhost:8080/",
          "height": 84
        }
      },
      "source": [
        "#4rd time\n",
        "md3=md.fit_generator(generator=train_flow,\n",
        "                                    steps_per_epoch=STEP_SIZE_TRAIN, validation_data=valid_flow,\n",
        "                                    validation_steps=STEP_SIZE_VALID, epochs=15)\n",
        "md.save('/gdrive/My Drive/fourthlr006.h5')"
      ],
      "execution_count": 0,
      "outputs": [
        {
          "output_type": "stream",
          "text": [
            "Epoch 1/15\n",
            "Found 10000 validated image filenames.\n",
            "Found 10000 validated image filenames.\n",
            " 19/312 [>.............................] - ETA: 1:07:36 - loss: 0.0924"
          ],
          "name": "stdout"
        }
      ]
    },
    {
      "cell_type": "code",
      "metadata": {
        "id": "VbBNUV-Yo24k",
        "colab_type": "code",
        "colab": {}
      },
      "source": [
        "from tensorflow.keras.models import load_model\n",
        "import tensorflow as tf\n",
        "k=load_model('/gdrive/My Drive/epoch75.h5', custom_objects = { \"tf\": tf })"
      ],
      "execution_count": 0,
      "outputs": []
    },
    {
      "cell_type": "code",
      "metadata": {
        "id": "Y71-FldSaKcr",
        "colab_type": "code",
        "outputId": "d1c4db3f-813b-436b-fa23-babcb7747180",
        "colab": {
          "base_uri": "https://localhost:8080/",
          "height": 50
        }
      },
      "source": [
        "p=[7049,12447]\n",
        "test=df.loc[df['id'].isin(p)]\n",
        "test_flow1 = test_gen_2inputs(test_idg, test, 2, IMG_SIZE)\n",
        "testx,testy=next(test_flow1)"
      ],
      "execution_count": 0,
      "outputs": [
        {
          "output_type": "stream",
          "text": [
            "Found 2 validated image filenames.\n",
            "Found 2 validated image filenames.\n"
          ],
          "name": "stdout"
        }
      ]
    },
    {
      "cell_type": "code",
      "metadata": {
        "colab_type": "code",
        "id": "7x5dzoPIrzsd",
        "colab": {}
      },
      "source": [
        "import tensorflow as tf\n",
        "model.save('/gdrive/My Drive/01epoch.h5')\n",
        "\n",
        "#m=keras.models.load_model('modelsavedvgg.h5', custom_objects = { \"tf\": tf })\n",
        "#k=load_model(\"modelsavedvgg.h5\", custom_objects = { \"tf\": tf })"
      ],
      "execution_count": 0,
      "outputs": []
    },
    {
      "cell_type": "code",
      "metadata": {
        "colab_type": "code",
        "id": "XDCecKHIM6I8",
        "colab": {}
      },
      "source": [
        "files = ['/gdrive/My Drive/boneage-test-dataset/' + str(i) + '.png' for i in df['id']]\n",
        "df_input['file'] = files\n",
        "df_input['exists'] = df_input['file'].map(os.path.exists)"
      ],
      "execution_count": 0,
      "outputs": []
    },
    {
      "cell_type": "code",
      "metadata": {
        "id": "MPUnCWs7VQ_g",
        "colab_type": "code",
        "colab": {}
      },
      "source": [
        "ep=[]\n",
        "loss=[]\n",
        "for i in range(1,81):\n",
        "  ep.append(i)\n",
        "loss=[0.7060,0.6687,0.6441,0.5886,0.5387,0.5884,0.5137,0.4814,0.4584,0.4307,0.4025,0.3769,0.3560,0.3347,0.3022,0.2746,0.2573,0.2464,0.2319,0.2247,0.2113,0.2045,0.1985,0.1900,0.1856,0.1845,0.1859,0.1779,0.1672,0.1649,0.1613,0.1588,0.1519,0.1545,0.1548,0.1547,0.1478,0.1492,0.1455,0.1412,0.1424,0.1385,0.1346,0.1368,0.1323,0.1333,0.1297,0.1286,0.1258,0.1224,0.1219,0.1203,0.1189,0.1221,0.1181,0.1170,0.1142,0.1107,0.1129,0.1121,0.1096,0.1097,0.1087,0.1105,0.1072,0.1135,0.1044,0.1060,0.1049,0.1028,0.1042,0.1082,0.1024,0.1015,0.1012,0.0992,0.1012,0.0998,0.1005,0.0982]"
      ],
      "execution_count": 0,
      "outputs": []
    },
    {
      "cell_type": "code",
      "metadata": {
        "id": "XNf6Ir_6XqCN",
        "colab_type": "code",
        "outputId": "f4e09395-52de-428a-8ec9-1550084458d9",
        "colab": {
          "base_uri": "https://localhost:8080/",
          "height": 329
        }
      },
      "source": [
        "print(len(loss))\n",
        "print(len(ep))\n",
        "import matplotlib.pyplot as plt\n",
        "plt.plot(ep,loss,'g')\n",
        "plt.title(\"MODEL LOSS\")\n",
        "plt.ylabel(\"LOSS\")\n",
        "plt.xlabel(\"EPOCH\")\n",
        " \n",
        "plt.show()"
      ],
      "execution_count": 0,
      "outputs": [
        {
          "output_type": "stream",
          "text": [
            "80\n",
            "80\n"
          ],
          "name": "stdout"
        },
        {
          "output_type": "display_data",
          "data": {
            "image/png": "[encoded data removed]",
            "text/plain": [
              "<Figure size 432x288 with 1 Axes>"
            ]
          },
          "metadata": {
            "tags": []
          }
        }
      ]
    },
    {
      "cell_type": "code",
      "metadata": {
        "id": "2amyxGUPnvIc",
        "colab_type": "code",
        "colab": {}
      },
      "source": [
        ""
      ],
      "execution_count": 0,
      "outputs": []
    },
    {
      "cell_type": "code",
      "metadata": {
        "colab_type": "code",
        "id": "sgUOzC_grzsh",
        "outputId": "0fb3ea8b-29b2-476a-a1d7-37dd95002beb",
        "colab": {
          "base_uri": "https://localhost:8080/",
          "height": 52
        }
      },
      "source": [
        "test_X,test_Y=next(test_flow)"
      ],
      "execution_count": 51,
      "outputs": [
        {
          "output_type": "stream",
          "text": [
            "Found 789 validated image filenames.\n",
            "Found 789 validated image filenames.\n"
          ],
          "name": "stdout"
        }
      ]
    },
    {
      "cell_type": "code",
      "metadata": {
        "colab_type": "code",
        "id": "hLpPUXkTrzsl",
        "outputId": "5033569e-da35-408d-9e7d-df1974b42a4d",
        "colab": {
          "base_uri": "https://localhost:8080/",
          "height": 108
        }
      },
      "source": [
        "plt.style.use(\"dark_background\")\n",
        "plt.rcParams['font.family'] = 'sans-serif'\n",
        "plt.rcParams['font.sans-serif'] = 'DejaVu Sans'\n",
        "print(boneage_div)\n",
        "#print(model.predict(test_X, batch_size = 263, verbose = True))\n",
        "print(boneage_mean)\n",
        "pred_Y = boneage_div*new_model.predict(test_X, batch_size = 263, verbose = True)+boneage_mean\n",
        "test_Y_months = boneage_div*test_Y+boneage_mean\n",
        "'''\n",
        "ord_idx = np.argsort(test_Y)\n",
        "ord_idx = ord_idx[np.linspace(0, len(ord_idx)-1, 4).astype(int)] # take 8 evenly spaced ones\n",
        "fig, m_axs = plt.subplots(2, 2, figsize = (8, 8))\n",
        "for (idx, c_ax) in zip(ord_idx, m_axs.flatten()):\n",
        "    cur_img = test_X[0][idx:(idx+1)]\n",
        "    c_ax.imshow(cur_img[0, :,:,0], cmap = 'bone')\n",
        "    \n",
        "    c_ax.set_title('Age: %2.1fY\\nPredicted Age: %2.1fY' % (test_Y_months[idx]/42.0, \n",
        "                                                           pred_Y[idx]))\n",
        "    c_ax.axis('off')\n",
        "#fig.savefig('trained_img_predictions.png', dpi = 300)\n",
        "'''"
      ],
      "execution_count": 52,
      "outputs": [
        {
          "output_type": "stream",
          "text": [
            "82.36404279879235\n",
            "127.3207517246848\n",
            "789/789 [==============================] - 14s 18ms/sample\n"
          ],
          "name": "stdout"
        },
        {
          "output_type": "execute_result",
          "data": {
            "text/plain": [
              "\"\\nord_idx = np.argsort(test_Y)\\nord_idx = ord_idx[np.linspace(0, len(ord_idx)-1, 4).astype(int)] # take 8 evenly spaced ones\\nfig, m_axs = plt.subplots(2, 2, figsize = (8, 8))\\nfor (idx, c_ax) in zip(ord_idx, m_axs.flatten()):\\n    cur_img = test_X[0][idx:(idx+1)]\\n    c_ax.imshow(cur_img[0, :,:,0], cmap = 'bone')\\n    \\n    c_ax.set_title('Age: %2.1fY\\nPredicted Age: %2.1fY' % (test_Y_months[idx]/42.0, \\n                                                           pred_Y[idx]))\\n    c_ax.axis('off')\\n#fig.savefig('trained_img_predictions.png', dpi = 300)\\n\""
            ]
          },
          "metadata": {
            "tags": []
          },
          "execution_count": 52
        }
      ]
    },
    {
      "cell_type": "code",
      "metadata": {
        "id": "NQZRnnaL8uKP",
        "colab_type": "code",
        "outputId": "108a6521-a8e7-4466-e3cb-b28e5e6b28c5",
        "colab": {
          "base_uri": "https://localhost:8080/",
          "height": 35
        }
      },
      "source": [
        "from sklearn.metrics import mean_absolute_error\n",
        "mean_absolute_error(test_Y_months,pred_Y)"
      ],
      "execution_count": 53,
      "outputs": [
        {
          "output_type": "execute_result",
          "data": {
            "text/plain": [
              "44.18882393202401"
            ]
          },
          "metadata": {
            "tags": []
          },
          "execution_count": 53
        }
      ]
    },
    {
      "cell_type": "code",
      "metadata": {
        "id": "nYEB-g0wo241",
        "colab_type": "code",
        "outputId": "724d90e8-5200-4e35-ca7a-a5f7e08575cb",
        "colab": {
          "base_uri": "https://localhost:8080/",
          "height": 50
        }
      },
      "source": [
        "p=pred_Y.reshape(-1,1)\n",
        "print(p.shape)\n",
        "p=p.flatten()\n",
        "p.shape\n",
        "#print(p)\n",
        "type(p)"
      ],
      "execution_count": 0,
      "outputs": [
        {
          "output_type": "stream",
          "text": [
            "(788, 1)\n"
          ],
          "name": "stdout"
        },
        {
          "output_type": "execute_result",
          "data": {
            "text/plain": [
              "numpy.ndarray"
            ]
          },
          "metadata": {
            "tags": []
          },
          "execution_count": 71
        }
      ]
    },
    {
      "cell_type": "code",
      "metadata": {
        "id": "G2P7ZmAsr3J9",
        "colab_type": "code",
        "colab": {}
      },
      "source": [
        ""
      ],
      "execution_count": 0,
      "outputs": []
    },
    {
      "cell_type": "code",
      "metadata": {
        "id": "X6lyz-Oro244",
        "colab_type": "code",
        "colab": {}
      },
      "source": [
        "b=test_df['id']\n",
        "pth=test_df['file']\n",
        "b2=test_df['boneage']"
      ],
      "execution_count": 0,
      "outputs": []
    },
    {
      "cell_type": "code",
      "metadata": {
        "id": "436kn7Bto247",
        "colab_type": "code",
        "outputId": "fdc7d19c-0531-48cf-c40c-1067e685e0bf",
        "colab": {
          "base_uri": "https://localhost:8080/",
          "height": 1000
        }
      },
      "source": [
        "#gender1=df['male']\n",
        "a=abs(p-test_Y_months)\n",
        "#print(a)\n",
        "df=pd.DataFrame()\n",
        "df['id']=b\n",
        "df['act']=test_Y_months\n",
        "df['pred']=p\n",
        "a.flatten()\n",
        "df['diff']=a\n",
        "#df['path']=pth\n",
        "#df['gender1']=gender1\n",
        "#df['bonage1']=test_Y_months\n",
        "#df['bonage2']=b2\n",
        "#df.head()\n",
        "sorted=df.sort_values('diff')\n",
        "df=sorted\n",
        "print(\"best cases\")\n",
        "print(sorted.head(100))\n",
        "print(\"worst cases\")\n",
        "print(sorted.tail(50))\n",
        "#df.to_csv('/gdrive/My Drive/guime.csv')"
      ],
      "execution_count": 0,
      "outputs": [
        {
          "output_type": "stream",
          "text": [
            "best cases\n",
            "          id    act        pred       diff\n",
            "2899    4794  120.0  118.424438   1.575562\n",
            "4639    6720  120.0  118.424438   1.575562\n",
            "3785    5777  120.0  118.424438   1.575562\n",
            "4879    6989  120.0  118.424438   1.575562\n",
            "10749  13539  120.0  118.424438   1.575562\n",
            "...      ...    ...         ...        ...\n",
            "1981    3586  108.0  118.424438  10.424438\n",
            "10124  12836  108.0  118.424438  10.424438\n",
            "3958    5966  108.0  118.424438  10.424438\n",
            "5813    8032  108.0  118.424438  10.424438\n",
            "4956    7072  108.0  118.424438  10.424438\n",
            "\n",
            "[100 rows x 4 columns]\n",
            "worst cases\n",
            "          id    act        pred        diff\n",
            "9472   12114  198.0  118.424438   79.575562\n",
            "2452    4109  198.0  118.424438   79.575562\n",
            "11825  14749   36.0  118.424438   82.424438\n",
            "12147  15107   36.0  118.424438   82.424438\n",
            "1890    3487   36.0  118.424438   82.424438\n",
            "12353  15327   36.0  118.424438   82.424438\n",
            "8291   10783   36.0  118.424438   82.424438\n",
            "1043    2535   36.0  118.424438   82.424438\n",
            "7494    9895   36.0  118.424438   82.424438\n",
            "217     1621   36.0  118.424438   82.424438\n",
            "4740    6832   36.0  118.424438   82.424438\n",
            "6237    8496   36.0  118.424438   82.424438\n",
            "3559    5526   33.0  118.424438   85.424438\n",
            "188     1590   33.0  118.424438   85.424438\n",
            "4000    6009  204.0  118.424438   85.575562\n",
            "1697    3268  204.0  118.424438   85.575562\n",
            "5709    7914  204.0  118.424438   85.575562\n",
            "11203  14048  204.0  118.424438   85.575562\n",
            "12281  15249  204.0  118.424438   85.575562\n",
            "2638    4312  204.0  118.424438   85.575562\n",
            "2812    4700  204.0  118.424438   85.575562\n",
            "1248    2758  204.0  118.424438   85.575562\n",
            "6631    8938   32.0  118.424438   86.424438\n",
            "9856   12543   30.0  118.424438   88.424438\n",
            "131     1522   30.0  118.424438   88.424438\n",
            "3716    5701   28.0  118.424438   90.424438\n",
            "2938    4836   28.0  118.424438   90.424438\n",
            "10857  13664  210.0  118.424438   91.575562\n",
            "2821    4710  210.0  118.424438   91.575562\n",
            "5241    7389   24.0  118.424438   94.424438\n",
            "3548    5513   24.0  118.424438   94.424438\n",
            "21      1402   24.0  118.424438   94.424438\n",
            "61      1445   21.0  118.424438   97.424438\n",
            "121     1512   21.0  118.424438   97.424438\n",
            "2240    3875  216.0  118.424438   97.575562\n",
            "11960  14899  216.0  118.424438   97.575562\n",
            "11265  14119  216.0  118.424438   97.575562\n",
            "9772   12451  216.0  118.424438   97.575562\n",
            "1859    3449   18.0  118.424438  100.424438\n",
            "8269   10758   15.0  118.424438  103.424438\n",
            "1476    3020   15.0  118.424438  103.424438\n",
            "2071    3688   15.0  118.424438  103.424438\n",
            "8775   11328   15.0  118.424438  103.424438\n",
            "8557   11079   15.0  118.424438  103.424438\n",
            "2591    4260   15.0  118.424438  103.424438\n",
            "2040    3655   15.0  118.424438  103.424438\n",
            "248     1654   14.0  118.424438  104.424438\n",
            "8802   11361   12.0  118.424438  106.424438\n",
            "10309  13043  228.0  118.424438  109.575562\n",
            "3441    5395  228.0  118.424438  109.575562\n"
          ],
          "name": "stdout"
        }
      ]
    },
    {
      "cell_type": "code",
      "metadata": {
        "id": "pTih05OcEEtW",
        "colab_type": "code",
        "outputId": "b92f5e25-962d-4354-8e6d-28bf70307500",
        "colab": {
          "base_uri": "https://localhost:8080/",
          "height": 403
        }
      },
      "source": [
        "print(df['id'],df['diff'])"
      ],
      "execution_count": 0,
      "outputs": [
        {
          "output_type": "stream",
          "text": [
            "2899      4794\n",
            "4639      6720\n",
            "3785      5777\n",
            "4879      6989\n",
            "10749    13539\n",
            "         ...  \n",
            "2040      3655\n",
            "248       1654\n",
            "8802     11361\n",
            "10309    13043\n",
            "3441      5395\n",
            "Name: id, Length: 788, dtype: int64 2899       1.575562\n",
            "4639       1.575562\n",
            "3785       1.575562\n",
            "4879       1.575562\n",
            "10749      1.575562\n",
            "            ...    \n",
            "2040     103.424438\n",
            "248      104.424438\n",
            "8802     106.424438\n",
            "10309    109.575562\n",
            "3441     109.575562\n",
            "Name: diff, Length: 788, dtype: float64\n"
          ],
          "name": "stdout"
        }
      ]
    },
    {
      "cell_type": "code",
      "metadata": {
        "id": "X5EG34PPo248",
        "colab_type": "code",
        "colab": {}
      },
      "source": [
        "df1=df[df['act']<=12]\n",
        "df2=df.loc[(df['act']<=24) & (df['act']>12)]\n",
        "df3=df.loc[(df['act']>24) &(df['act']<=36)]\n",
        "df4=df.loc[(df['act']>36) &(df['act']<=48)]\n",
        "df5=df.loc[(df['act']>48) &(df['act']<=60)]\n",
        "df6=df.loc[(df['act']>60) &(df['act']<=72)]\n",
        "df7=df.loc[(df['act']>72) &(df['act']<=84)]\n",
        "df8=df.loc[(df['act']>84) &(df['act']<=96)]\n",
        "df9=df.loc[(df['act']>96) &(df['act']<=108)]\n",
        "df10=df.loc[(df['act']>108) &(df['act']<=120)]\n",
        "df11=df.loc[(df['act']>120) &(df['act']<=132)]\n",
        "df12=df.loc[(df['act']>132) &(df['act']<=144)]\n",
        "df13=df.loc[(df['act']>144) &(df['act']<=156)]\n",
        "df14=df.loc[(df['act']>156) &(df['act']<=168)]\n",
        "df15=df.loc[(df['act']>168) &(df['act']<=180)]\n",
        "df16=df.loc[(df['act']>180) &(df['act']<=192)]\n",
        "df17=df.loc[(df['act']>192) &(df['act']<=204)]\n",
        "df18=df.loc[(df['act']>204) &(df['act']<=216)]\n",
        "df19=df.loc[(df['act']>216) &(df['act']<=228)]"
      ],
      "execution_count": 0,
      "outputs": []
    },
    {
      "cell_type": "code",
      "metadata": {
        "id": "YiZp4dEco24_",
        "colab_type": "code",
        "outputId": "35bf38e7-55e5-4d3d-80da-976114142daf",
        "colab": {}
      },
      "source": [
        "print(mean_absolute_error(df1['act'],df1['pred']))\n",
        "print(mean_absolute_error(df2['act'],df2['pred']))\n",
        "print(mean_absolute_error(df3['act'],df3['pred']))\n",
        "print(mean_absolute_error(df4['act'],df4['pred']))\n",
        "print(mean_absolute_error(df5['act'],df5['pred']))\n",
        "print(mean_absolute_error(df6['act'],df6['pred']))\n",
        "print(mean_absolute_error(df7['act'],df7['pred']))\n",
        "print(mean_absolute_error(df8['act'],df8['pred']))\n",
        "print(mean_absolute_error(df9['act'],df9['pred']))\n",
        "print(mean_absolute_error(df10['act'],df10['pred']))\n",
        "print(mean_absolute_error(df11['act'],df11['pred']))\n",
        "print(mean_absolute_error(df12['act'],df12['pred']))\n",
        "print(mean_absolute_error(df13['act'],df13['pred']))\n",
        "print(mean_absolute_error(df14['act'],df14['pred']))\n",
        "print(mean_absolute_error(df15['act'],df15['pred']))\n",
        "print(mean_absolute_error(df16['act'],df16['pred']))\n",
        "print(mean_absolute_error(df17['act'],df17['pred']))\n",
        "print(mean_absolute_error(df18['act'],df18['pred']))\n",
        "print(mean_absolute_error(df19['act'],df19['pred']))"
      ],
      "execution_count": 0,
      "outputs": [
        {
          "output_type": "stream",
          "text": [
            "7.830768585205071\n",
            "8.549108123779297\n",
            "5.275413513183594\n",
            "14.666978624131945\n",
            "11.167550150553385\n",
            "10.218318816154234\n",
            "8.366297705698821\n",
            "9.37790967597336\n",
            "15.06360321044922\n",
            "11.69335216175426\n",
            "13.48546359963613\n",
            "14.557658745260799\n",
            "13.733514124033402\n",
            "14.481881361741285\n",
            "15.74964021381579\n",
            "12.87321533203125\n",
            "17.956851959228516\n",
            "4.972078959147136\n",
            "14.283538818359375\n"
          ],
          "name": "stdout"
        }
      ]
    },
    {
      "cell_type": "code",
      "metadata": {
        "colab_type": "code",
        "id": "TEEjIktPrzso",
        "colab": {}
      },
      "source": [
        "import pandas as pd\n",
        "act=pd.DataFrame(test_Y_months)\n",
        "p=pd.DataFrame(pred_Y)\n",
        "diff=pd.DataFrame(abs(act-p))"
      ],
      "execution_count": 0,
      "outputs": []
    },
    {
      "cell_type": "code",
      "metadata": {
        "id": "qkIaJogxDfwe",
        "colab_type": "code",
        "outputId": "8046fa2d-8be5-4009-a672-f681f52a33ae",
        "colab": {
          "base_uri": "https://localhost:8080/",
          "height": 252
        }
      },
      "source": [
        "print(diff)"
      ],
      "execution_count": 0,
      "outputs": [
        {
          "output_type": "stream",
          "text": [
            "             0\n",
            "0    10.582367\n",
            "1     0.304398\n",
            "2    13.393234\n",
            "3     3.731766\n",
            "4     4.055359\n",
            "..         ...\n",
            "784   7.131027\n",
            "785   6.037521\n",
            "786  18.441940\n",
            "787  10.144592\n",
            "788   5.236938\n",
            "\n",
            "[789 rows x 1 columns]\n"
          ],
          "name": "stdout"
        }
      ]
    },
    {
      "cell_type": "code",
      "metadata": {
        "id": "VTqVQadio25N",
        "colab_type": "code",
        "outputId": "b7deea6d-aeca-4ec6-b1cc-64855742a93f",
        "colab": {
          "base_uri": "https://localhost:8080/",
          "height": 34
        }
      },
      "source": [
        "from sklearn.metrics import mean_absolute_error\n",
        "mean_absolute_error(test_Y_months,pred_Y)"
      ],
      "execution_count": 0,
      "outputs": [
        {
          "output_type": "execute_result",
          "data": {
            "text/plain": [
              "35.66464372818845"
            ]
          },
          "metadata": {
            "tags": []
          },
          "execution_count": 42
        }
      ]
    },
    {
      "cell_type": "code",
      "metadata": {
        "colab_type": "code",
        "id": "NdJl8bSP2VXI",
        "outputId": "6f5c73b7-bbed-4c00-fda1-4f5565ea0977",
        "colab": {
          "base_uri": "https://localhost:8080/",
          "height": 284
        }
      },
      "source": [
        "diff.describe()"
      ],
      "execution_count": 0,
      "outputs": [
        {
          "output_type": "execute_result",
          "data": {
            "text/html": [
              "<div>\n",
              "<style scoped>\n",
              "    .dataframe tbody tr th:only-of-type {\n",
              "        vertical-align: middle;\n",
              "    }\n",
              "\n",
              "    .dataframe tbody tr th {\n",
              "        vertical-align: top;\n",
              "    }\n",
              "\n",
              "    .dataframe thead th {\n",
              "        text-align: right;\n",
              "    }\n",
              "</style>\n",
              "<table border=\"1\" class=\"dataframe\">\n",
              "  <thead>\n",
              "    <tr style=\"text-align: right;\">\n",
              "      <th></th>\n",
              "      <th>0</th>\n",
              "    </tr>\n",
              "  </thead>\n",
              "  <tbody>\n",
              "    <tr>\n",
              "      <th>count</th>\n",
              "      <td>789.000000</td>\n",
              "    </tr>\n",
              "    <tr>\n",
              "      <th>mean</th>\n",
              "      <td>8.679776</td>\n",
              "    </tr>\n",
              "    <tr>\n",
              "      <th>std</th>\n",
              "      <td>9.055515</td>\n",
              "    </tr>\n",
              "    <tr>\n",
              "      <th>min</th>\n",
              "      <td>0.002960</td>\n",
              "    </tr>\n",
              "    <tr>\n",
              "      <th>25%</th>\n",
              "      <td>3.001083</td>\n",
              "    </tr>\n",
              "    <tr>\n",
              "      <th>50%</th>\n",
              "      <td>6.844193</td>\n",
              "    </tr>\n",
              "    <tr>\n",
              "      <th>75%</th>\n",
              "      <td>11.995346</td>\n",
              "    </tr>\n",
              "    <tr>\n",
              "      <th>max</th>\n",
              "      <td>126.242630</td>\n",
              "    </tr>\n",
              "  </tbody>\n",
              "</table>\n",
              "</div>"
            ],
            "text/plain": [
              "                0\n",
              "count  789.000000\n",
              "mean     8.679776\n",
              "std      9.055515\n",
              "min      0.002960\n",
              "25%      3.001083\n",
              "50%      6.844193\n",
              "75%     11.995346\n",
              "max    126.242630"
            ]
          },
          "metadata": {
            "tags": []
          },
          "execution_count": 52
        }
      ]
    },
    {
      "cell_type": "code",
      "metadata": {
        "colab_type": "code",
        "id": "Wl7R80FR4guB",
        "outputId": "033111ea-2a44-48af-d91e-ebcd2824b552",
        "colab": {
          "base_uri": "https://localhost:8080/",
          "height": 34
        }
      },
      "source": [
        "np.sqrt(((test_Y_months-pred_Y)**2).mean())\n"
      ],
      "execution_count": 0,
      "outputs": [
        {
          "output_type": "execute_result",
          "data": {
            "text/plain": [
              "59.47480189976486"
            ]
          },
          "metadata": {
            "tags": []
          },
          "execution_count": 53
        }
      ]
    },
    {
      "cell_type": "code",
      "metadata": {
        "colab_type": "code",
        "id": "UDJkk2_03I21",
        "outputId": "5458174c-4979-4111-dcca-ba326296f443",
        "colab": {
          "base_uri": "https://localhost:8080/",
          "height": 34
        }
      },
      "source": [
        "\n",
        "from sklearn.metrics import mean_absolute_error\n",
        "mean_absolute_error(test_Y_months,pred_Y)"
      ],
      "execution_count": 0,
      "outputs": [
        {
          "output_type": "execute_result",
          "data": {
            "text/plain": [
              "35.66464372818845"
            ]
          },
          "metadata": {
            "tags": []
          },
          "execution_count": 40
        }
      ]
    },
    {
      "cell_type": "code",
      "metadata": {
        "colab_type": "code",
        "id": "jdNxmqV8EDCh",
        "outputId": "b1a88a92-4fb4-4f38-8152-ee16b6637918",
        "colab": {
          "base_uri": "https://localhost:8080/",
          "height": 50
        }
      },
      "source": [
        "from scipy import stats\n",
        "t2,p2=stats.ttest_ind(test_Y_months,pred_Y)\n",
        "print(\"t=\"+str(t2))\n",
        "print(\"p=\"+str(p2))"
      ],
      "execution_count": 0,
      "outputs": [
        {
          "output_type": "stream",
          "text": [
            "t=[-0.393438]\n",
            "p=[0.69404922]\n"
          ],
          "name": "stdout"
        }
      ]
    },
    {
      "cell_type": "code",
      "metadata": {
        "id": "_36vI-Pf8JZg",
        "colab_type": "code",
        "colab": {}
      },
      "source": [
        ""
      ],
      "execution_count": 0,
      "outputs": []
    }
  ]
}